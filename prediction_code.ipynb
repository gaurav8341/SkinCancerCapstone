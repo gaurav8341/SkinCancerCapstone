{
 "cells": [
  {
   "cell_type": "code",
   "execution_count": 3,
   "metadata": {},
   "outputs": [],
   "source": [
    "import torch\n",
    "import torch.nn.functional as F\n",
    "from torch import nn\n",
    "from torchvision import transforms\n",
    "from torch.autograd import Variable\n",
    "from ClassifierNew import ClassifierNew, Flatten"
   ]
  },
  {
   "cell_type": "code",
   "execution_count": 112,
   "metadata": {},
   "outputs": [],
   "source": [
    "norm_mean = [0.485, 0.456, 0.406]\n",
    "norm_std = [0.229, 0.224, 0.225]\n",
    "input_size = (224, 224)\n",
    "# test_transform = transforms.Compose([transforms.Resize(input_size), \n",
    "#                                     transforms.ToTensor(),\n",
    "#                                     transforms.Normalize(norm_mean, norm_std)])\n",
    "test_transform = transforms.Compose([transforms.Resize(input_size),\n",
    "                                          transforms.RandomHorizontalFlip(),\n",
    "                                          transforms.RandomVerticalFlip(),\n",
    "                                          transforms.ToTensor(), \n",
    "                                          transforms.Normalize(norm_mean, norm_std)])"
   ]
  },
  {
   "cell_type": "code",
   "execution_count": 96,
   "metadata": {},
   "outputs": [],
   "source": [
    "lesion_type_dict = {\n",
    "    4 : 'Melanocytic nevi',\n",
    "    6 : 'Vascular Lesions',\n",
    "    2 : 'Benign keratosis-like lesions ',\n",
    "    1 : 'Basal cell carcinoma',\n",
    "    0 : 'Actinic keratoses',\n",
    "    5 : 'Melanoma',\n",
    "    3 : 'Dermatofibroma'\n",
    "}"
   ]
  },
  {
   "cell_type": "code",
   "execution_count": 118,
   "metadata": {},
   "outputs": [],
   "source": [
    "from PIL import Image\n",
    "\n",
    "def predict(path, modelpath = \"D:/Github/SkinCancerCapstone/models/resnet101-adam.pth\"):\n",
    "    model = torch.load(modelpath)\n",
    "    device = torch.device(\"cuda:0\" if torch.cuda.is_available() else \"cpu\")\n",
    "    model.to(device)\n",
    "    model.eval()\n",
    "    \n",
    "    img = Image.open(path)\n",
    "    img = test_transform(img).float()\n",
    "    img = Variable(img, requires_grad=False)\n",
    "    img = img.unsqueeze(0).to(device)\n",
    "    output = model(img)\n",
    "    print(output)\n",
    "    m = nn.Softmax(dim = 1)\n",
    "    op = m(output)\n",
    "    op = op.cpu().detach().numpy()[0]\n",
    "    print(op)\n",
    "    opind = op.argsort()[-3:][::-1]\n",
    "    print(opind)\n",
    "#     prediction = output.max(1, keepdim=True)[1].tolist()\n",
    "    li =[]\n",
    "    for p in opind:\n",
    "        li.append((lesion_type_dict[p], op[p]))\n",
    "    return li"
   ]
  },
  {
   "cell_type": "code",
   "execution_count": 130,
   "metadata": {},
   "outputs": [
    {
     "name": "stdout",
     "output_type": "stream",
     "text": [
      "tensor([[ 2.1213,  0.3717, -0.0059, -2.1351, -2.1645,  2.5128, -2.1774]],\n",
      "       device='cuda:0', grad_fn=<AddmmBackward>)\n",
      "[0.35540867 0.06178133 0.04235274 0.00503691 0.00489102 0.52570057\n",
      " 0.00482876]\n",
      "[5 0 1]\n"
     ]
    },
    {
     "data": {
      "text/plain": [
       "[('Melanoma', 0.52570057),\n",
       " ('Actinic keratoses', 0.35540867),\n",
       " ('Basal cell carcinoma', 0.06178133)]"
      ]
     },
     "execution_count": 130,
     "metadata": {},
     "output_type": "execute_result"
    }
   ],
   "source": [
    "predict(\"D:/Github/SkinCancerCapstone/report/img/skin_lesions/mel.jpg\")\n",
    "# predict(\"D:/Github/SkinCancerCapstone/data/HAM10000_images_part_1/ISIC_0027452.jpg\")"
   ]
  },
  {
   "cell_type": "code",
   "execution_count": null,
   "metadata": {},
   "outputs": [],
   "source": []
  },
  {
   "cell_type": "code",
   "execution_count": null,
   "metadata": {},
   "outputs": [],
   "source": []
  }
 ],
 "metadata": {
  "kernelspec": {
   "display_name": "Python 3",
   "language": "python",
   "name": "python3"
  },
  "language_info": {
   "codemirror_mode": {
    "name": "ipython",
    "version": 3
   },
   "file_extension": ".py",
   "mimetype": "text/x-python",
   "name": "python",
   "nbconvert_exporter": "python",
   "pygments_lexer": "ipython3",
   "version": "3.7.4"
  },
  "latex_envs": {
   "LaTeX_envs_menu_present": true,
   "autoclose": false,
   "autocomplete": true,
   "bibliofile": "biblio.bib",
   "cite_by": "apalike",
   "current_citInitial": 1,
   "eqLabelWithNumbers": true,
   "eqNumInitial": 1,
   "hotkeys": {
    "equation": "Ctrl-E",
    "itemize": "Ctrl-I"
   },
   "labels_anchors": false,
   "latex_user_defs": false,
   "report_style_numbering": false,
   "user_envs_cfg": false
  },
  "varInspector": {
   "cols": {
    "lenName": 16,
    "lenType": 16,
    "lenVar": 40
   },
   "kernels_config": {
    "python": {
     "delete_cmd_postfix": "",
     "delete_cmd_prefix": "del ",
     "library": "var_list.py",
     "varRefreshCmd": "print(var_dic_list())"
    },
    "r": {
     "delete_cmd_postfix": ") ",
     "delete_cmd_prefix": "rm(",
     "library": "var_list.r",
     "varRefreshCmd": "cat(var_dic_list()) "
    }
   },
   "types_to_exclude": [
    "module",
    "function",
    "builtin_function_or_method",
    "instance",
    "_Feature"
   ],
   "window_display": false
  }
 },
 "nbformat": 4,
 "nbformat_minor": 2
}
