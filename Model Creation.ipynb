{
 "cells": [
  {
   "cell_type": "code",
   "execution_count": 1,
   "metadata": {},
   "outputs": [],
   "source": [
    "%matplotlib inline\n",
    "# %%capture\n",
    "# python libraties\n",
    "import os, itertools\n",
    "import matplotlib.pyplot as plt\n",
    "import numpy as np\n",
    "import pandas as pd\n",
    "from tqdm import tqdm_notebook as tqdm\n",
    "from glob import glob\n",
    "from PIL import Image\n",
    "import cv2\n",
    "import time\n",
    "import copy\n",
    "# pytorch libraries\n",
    "import torch\n",
    "import torch.nn.functional as F\n",
    "from torch import optim,nn\n",
    "from torch.optim import lr_scheduler\n",
    "from torch.autograd import Variable\n",
    "from torch.utils.data import DataLoader,Dataset, TensorDataset\n",
    "from torchvision import models, transforms, utils\n",
    "from torchsummary import summary\n",
    "from torchsampler import ImbalancedDatasetSampler\n",
    "# from imblearn.over_sampling import SMOTE\n",
    "# sklearn libraries4\n",
    "from sklearn.metrics import confusion_matrix\n",
    "from sklearn.model_selection import train_test_split\n",
    "from sklearn.metrics import classification_report\n",
    "from sklearn.metrics import balanced_accuracy_score\n",
    "import math\n",
    "# import gc"
   ]
  },
  {
   "cell_type": "code",
   "execution_count": 2,
   "metadata": {},
   "outputs": [],
   "source": [
    "# data directory \n",
    "data_dir = 'data'   "
   ]
  },
  {
   "cell_type": "code",
   "execution_count": 3,
   "metadata": {},
   "outputs": [],
   "source": [
    "def set_parameter_requires_grad(model, child_no = 8, finetuning = False):\n",
    "    '''\n",
    "        This function freezes the parameters of the model.\n",
    "        \n",
    "        Parameters:\n",
    "            model: model to be freezed before training\n",
    "            child_no the layer to be reamined unfreezed for training\n",
    "            finetuning: if finetuning is true then the model will not be freezed\n",
    "        \n",
    "        Returns:\n",
    "            Nothing\n",
    "    '''\n",
    "    if not finetuning:\n",
    "        print(finetuning)\n",
    "        for param in model.parameters():\n",
    "            param.requires_grad = False\n",
    "    else: \n",
    "        print(finetuning)\n",
    "        child_counter = 0\n",
    "        for child in model.children():\n",
    "            if child_counter == child_no:\n",
    "                print(\"child \",child_counter,\" was frozen\")\n",
    "                for param in child.parameters():\n",
    "                    param.requires_grad = False\n",
    "            else:\n",
    "                print(\"child \", child_counter,\" is not frozen\")\n",
    "                for param in child.parameters():\n",
    "                    param.requires_grad = True\n",
    "            child_counter += 1\n",
    "            \n",
    "        "
   ]
  },
  {
   "cell_type": "code",
   "execution_count": 21,
   "metadata": {},
   "outputs": [],
   "source": [
    "class Flatten(nn.Module):\n",
    "    def forward(self, input):\n",
    "        return input.view(input.size(0), -1)\n",
    "      \n",
    "class ClassifierNew(nn.Module):\n",
    "    def __init__(self, inp = 2208, h1=1024, out = 7, d=0.35):\n",
    "        super().__init__()\n",
    "        self.ap = nn.AdaptiveAvgPool2d((1,1))\n",
    "        self.mp = nn.AdaptiveMaxPool2d((1,1))\n",
    "        self.fla = Flatten()\n",
    "        self.bn0 = nn.BatchNorm1d(inp*2,eps=1e-05, momentum=0.1, affine=True)\n",
    "        self.dropout0 = nn.Dropout(d)\n",
    "        self.fc1 = nn.Linear(inp*2, h1)\n",
    "        self.bn1 = nn.BatchNorm1d(h1,eps=1e-05, momentum=0.1, affine=True)\n",
    "        self.dropout1 = nn.Dropout(d)\n",
    "        self.fc2 = nn.Linear(h1, out)\n",
    "        \n",
    "    def forward(self, x):\n",
    "        ap = self.ap(x)\n",
    "        mp = self.mp(x)\n",
    "        x = torch.cat((ap,mp),dim=1)\n",
    "        x = self.fla(x)\n",
    "        x = self.bn0(x)\n",
    "        x = self.dropout0(x)\n",
    "        x = F.relu(self.fc1(x))\n",
    "        x = self.bn1(x)\n",
    "        x = self.dropout1(x)         \n",
    "        x = self.fc2(x)\n",
    "        \n",
    "        return x"
   ]
  },
  {
   "cell_type": "code",
   "execution_count": 22,
   "metadata": {},
   "outputs": [],
   "source": [
    "def initialize_models(model_name, num_classes = 7, fine_tuning = False):\n",
    "    '''\n",
    "        This function initialize3s the pretrained model\n",
    "    '''\n",
    "    \n",
    "    model_fe = None\n",
    "    input_size = 0\n",
    "    \n",
    "    if(model_name == 'resnet'):\n",
    "        model_fe = models.resnet101(pretrained = True)\n",
    "        set_parameter_requires_grad(model_fe, fine_tuning)\n",
    "        num_ftrs = model_fe.fc.in_features\n",
    "        model_fe = torch.nn.Sequential(*(list(model_fe.children())[:-2]))\n",
    "        model_fe.fc = ClassifierNew(inp = num_ftrs, out = num_classes, d = 0.1)\n",
    "#         model_fe.fc = nn.Linear(num_ftrs, num_classes)\n",
    "        input_size = (224, 224)\n",
    "    \n",
    "    elif(model_name == 'densenet'):\n",
    "        model_fe = models.densenet201(pretrained = True)\n",
    "        set_parameter_requires_grad(model_fe, fine_tuning)\n",
    "        num_ftrs = model_fe.classifier.in_features\n",
    "        model_fe.classifier = ClassifierNew(inp = num_ftrs, out = num_classes)\n",
    "#         model_fe.classifier = nn.Linear(num_ftrs, num_classes)\n",
    "        input_size = (224, 224)\n",
    "        \n",
    "    elif(model_name == 'inception'):\n",
    "        model_fe = models.inception_v3(pretrained = True)\n",
    "        model_fe.aux_logits = False\n",
    "        set_parameter_requires_grad(model_fe, fine_tuning)\n",
    "        num_ftrs = model_fe.fc.in_features\n",
    "        model_fe.fc = ClassifierNew(inp = num_ftrs, out = num_classes)\n",
    "        input_size = (299, 299)\n",
    "    \n",
    "    norm_mean = [0.485, 0.456, 0.406]\n",
    "    norm_std = [0.229, 0.224, 0.225]\n",
    "    return model_fe, input_size, norm_mean, norm_std\n",
    "        "
   ]
  },
  {
   "cell_type": "markdown",
   "metadata": {},
   "source": [
    "## Training Script"
   ]
  },
  {
   "cell_type": "code",
   "execution_count": 6,
   "metadata": {},
   "outputs": [],
   "source": [
    "def train_model(model, criterion, optimizer, dataloader, scheduler = None, num_epochs=25):\n",
    "    since = time.time()\n",
    "    \n",
    "    val_acc, val_loss = [],[]\n",
    "    train_acc, train_loss = [],[]\n",
    "    lr_rate = []\n",
    "    \n",
    "#     best_model_wts = copy.deepcopy(model.state_dict())\n",
    "#     best_acc = 0.0\n",
    "\n",
    "    for epoch in range(num_epochs):\n",
    "        print('Epoch {}/{}'.format(epoch, num_epochs - 1))\n",
    "        print('-' * 10)\n",
    "\n",
    "        # Each epoch has a training and validation phase\n",
    "        for phase in ['train', 'val']:\n",
    "            if phase == 'train':\n",
    "#                 print('phase train')\n",
    "#                 for param_group in optimizer.param_groups:\n",
    "#                     print('Learning Rate {}'.format(param_group['lr']))\n",
    "#                     lr_rate.append(param_group['lr'])\n",
    "                model.train()  # Set model to training mode\n",
    "            else:\n",
    "#                 print('phase val')\n",
    "                model.eval()   # Set model to evaluate mode\n",
    "\n",
    "            running_loss = 0.0\n",
    "            running_corrects = 0\n",
    "\n",
    "            # Iterate over data.\n",
    "            for inputs, labels in tqdm(dataloader[phase]):\n",
    "                inputs = inputs.to(device)\n",
    "                labels = labels.to(device)\n",
    "\n",
    "                # zero the parameter gradients\n",
    "                optimizer.zero_grad()\n",
    "\n",
    "                # forward\n",
    "                # track history if only in train\n",
    "                with torch.set_grad_enabled(phase == 'train'):\n",
    "                    outputs = model(inputs)\n",
    "                    _, preds = torch.max(outputs, 1)\n",
    "                    loss = criterion(outputs, labels)\n",
    "\n",
    "                    # backward + optimize only if in training phase\n",
    "                    if phase == 'train':\n",
    "                        loss.backward()\n",
    "                        optimizer.step()\n",
    "\n",
    "                # statistics\n",
    "                running_loss += loss.item() * inputs.size(0)\n",
    "                running_corrects += torch.sum(preds == labels.data)\n",
    "                if phase == 'train' and scheduler is not None:\n",
    "                    scheduler.step()\n",
    "                    lr_rate.append(scheduler.get_lr()[0])\n",
    "                \n",
    "            del inputs\n",
    "            del labels\n",
    "            torch.cuda.empty_cache()\n",
    "                \n",
    "            \n",
    "\n",
    "            epoch_loss = running_loss / len(dataloader[phase].dataset)\n",
    "            epoch_acc = running_corrects.double() / len(dataloader[phase].dataset)\n",
    "            \n",
    "            if phase == 'train':\n",
    "                val_loss.append(epoch_loss)\n",
    "                val_acc.append(epoch_acc)\n",
    "            else:\n",
    "                train_loss.append(epoch_loss)\n",
    "                train_acc.append(epoch_acc)\n",
    "\n",
    "            print('{} Loss: {:.4f} Acc: {:.4f}'.format(\n",
    "                phase, epoch_loss, epoch_acc))\n",
    "\n",
    "#             # deep copy the model\n",
    "#             if phase == 'val' and epoch_acc > best_acc:\n",
    "#                 best_acc = epoch_acc\n",
    "#                 print('Best accuracy {}'.format(best_acc))\n",
    "#                 best_model_wts = copy.deepcopy(model.state_dict())\n",
    "\n",
    "        print()\n",
    "\n",
    "    time_elapsed = time.time() - since\n",
    "    print('Training complete in {:.0f}m {:.0f}s'.format(\n",
    "        time_elapsed // 60, time_elapsed % 60))\n",
    "#     print('Best val Acc: {:4f}'.format(best_acc))\n",
    "    # load best model weights\n",
    "#     model.load_state_dict(best_model_wts)\n",
    "    return model, val_loss, val_acc, train_loss, train_acc, lr_rate"
   ]
  },
  {
   "cell_type": "markdown",
   "metadata": {},
   "source": [
    "## class weights for the sampler"
   ]
  },
  {
   "cell_type": "code",
   "execution_count": 7,
   "metadata": {},
   "outputs": [],
   "source": [
    "import pandas as pd\n",
    "from collections import Counter\n",
    "from collections import OrderedDict \n",
    "\n",
    "def get_class_weights(y, forsampler = True):\n",
    "    counter = Counter(y)\n",
    "    dic = {}\n",
    "    if not forsampler:\n",
    "        majority = max(counter.values())\n",
    "        dic = {cls: float(majority)/count for cls, count in counter.items()}\n",
    "    else:\n",
    "        dic = {cls: 1 / count for cls , count in counter.items()}\n",
    "    \n",
    "    dic = OrderedDict(sorted(dic.items()))\n",
    "    weights = list(dic.values())\n",
    "    sample_weights = [weights[t] for t in y]\n",
    "    sample_weights = torch.FloatTensor(sample_weights)\n",
    "\n",
    "    return sample_weights"
   ]
  },
  {
   "cell_type": "markdown",
   "metadata": {},
   "source": [
    "## data transforms"
   ]
  },
  {
   "cell_type": "code",
   "execution_count": 8,
   "metadata": {},
   "outputs": [],
   "source": [
    "# transfromations for train images\n",
    "def get_transforms(input_size, norm_mean, norm_std):\n",
    "    train_transform = transforms.Compose([transforms.Resize(input_size),\n",
    "                                          transforms.RandomHorizontalFlip(),\n",
    "                                          transforms.RandomVerticalFlip(),\n",
    "                                          transforms.ToTensor(), \n",
    "                                          transforms.Normalize(norm_mean, norm_std)])\n",
    "    # define the transformation of the test images.\n",
    "    test_transform = transforms.Compose([transforms.Resize(input_size), \n",
    "                                        transforms.ToTensor(),\n",
    "                                        transforms.Normalize(norm_mean, norm_std)])\n",
    "    \n",
    "    return train_transform, test_transform"
   ]
  },
  {
   "cell_type": "code",
   "execution_count": 9,
   "metadata": {},
   "outputs": [],
   "source": [
    "# del model\n",
    "torch.cuda.empty_cache()"
   ]
  },
  {
   "cell_type": "markdown",
   "metadata": {},
   "source": [
    "## Custom Dataset"
   ]
  },
  {
   "cell_type": "code",
   "execution_count": 10,
   "metadata": {},
   "outputs": [],
   "source": [
    "class HamDataset(Dataset):\n",
    "    def __init__(self, csvpath, transform = None):\n",
    "        self.df = pd.read_csv(csvpath)\n",
    "        self.transform = transform\n",
    "        \n",
    "    def __len__(self):\n",
    "        return len(self.df)\n",
    "    \n",
    "    def __getitem__(self, index):\n",
    "        X = Image.open(self.df['path'][index])\n",
    "        y = torch.tensor(int(self.df['cell_type_idx'][index]))\n",
    "        \n",
    "        if self.transform:\n",
    "            X = self.transform(X)\n",
    "        \n",
    "        return X, y"
   ]
  },
  {
   "cell_type": "markdown",
   "metadata": {},
   "source": [
    "## Dataloader Function"
   ]
  },
  {
   "cell_type": "code",
   "execution_count": 11,
   "metadata": {},
   "outputs": [],
   "source": [
    "def get_data_loader(csvpathh, transform, batch_size = 7):\n",
    "    csvpath = os.path.join(data_dir, csvpathh)\n",
    "    df = pd.read_csv(csvpath)\n",
    "    dataset = HamDataset(csvpath, transform)\n",
    "    sampler = None\n",
    "    if(csvpathh == 'train.csv'):\n",
    "        print(csvpath)\n",
    "        class_weights = get_class_weights(df.cell_type_idx.values, forsampler = True)\n",
    "        sampler = torch.utils.data.sampler.WeightedRandomSampler(class_weights, len(class_weights))\n",
    "        dataloader = DataLoader(dataset, batch_size=batch_size, sampler = sampler, num_workers=0)\n",
    "    else:\n",
    "        dataloader = DataLoader(dataset, batch_size=batch_size, shuffle = True, num_workers=0)        \n",
    "    return dataloader"
   ]
  },
  {
   "cell_type": "code",
   "execution_count": 12,
   "metadata": {},
   "outputs": [],
   "source": [
    "def imshow(inp, mean, std, title=None):\n",
    "    \"\"\"Imshow for Tensor.\"\"\"\n",
    "    inp = inp.numpy().transpose((1, 2, 0))\n",
    "#     mean = np.array([0.485, 0.456, 0.406])\n",
    "#     std = np.array([0.229, 0.224, 0.225])\n",
    "    inp = std * inp + mean\n",
    "    inp = np.clip(inp, 0, 1)\n",
    "    plt.imshow(inp)\n",
    "    plt.axis('off')\n",
    "    plt.figure(figsize=(200,100))\n",
    "#     if title is not None:\n",
    "#         plt.title(title)\n",
    "#     plt.pause(0.001)  # pause a bit so that plots are updated\n",
    "    plt.savefig('graphs/processedimages.png')"
   ]
  },
  {
   "cell_type": "code",
   "execution_count": 122,
   "metadata": {},
   "outputs": [],
   "source": [
    "# from torchvision.models.densenet import DenseNet\n",
    "# class myDenseNet(DenseNet):\n",
    "#     def __init__(self, inp = 1920, out = 7):\n",
    "        \n",
    "#         super(myDenseNet, self).__init__(32, (6, 12, 48, 32), 64)\n",
    "#         self.classifier = ClassifierNew(inp = inp, out = out)\n",
    "    \n",
    "#     def forward(self, x):  \n",
    "#         features = self.features(x)\n",
    "#         x = F.relu(features, inplace=True)\n",
    "#         x = F.relu(features, inplace=True)\n",
    "#         x1 = F.adaptive_avg_pool2d(x, (1, 1))\n",
    "#         y = F.adaptive_max_pool2d(x, (1,1))\n",
    "#         self.classifier(x)\n",
    "#         return x\n",
    "    \n",
    "# model = myDenseNet()\n",
    "# # if you need pretrained weights\n",
    "# p = models.densenet201(pretrained=True).state_dict()   "
   ]
  },
  {
   "cell_type": "code",
   "execution_count": 13,
   "metadata": {},
   "outputs": [],
   "source": [
    "# model.load_state_dict(p)\n",
    "# model = model.to(device)"
   ]
  },
  {
   "cell_type": "code",
   "execution_count": 14,
   "metadata": {},
   "outputs": [],
   "source": [
    "# model.classifier = ClassifierNew(inp = 1920, out = 7)"
   ]
  },
  {
   "cell_type": "code",
   "execution_count": 15,
   "metadata": {},
   "outputs": [],
   "source": [
    "# model"
   ]
  },
  {
   "cell_type": "code",
   "execution_count": 16,
   "metadata": {},
   "outputs": [],
   "source": [
    "# summary(model, (3, 224, 224))"
   ]
  },
  {
   "cell_type": "code",
   "execution_count": null,
   "metadata": {},
   "outputs": [],
   "source": []
  },
  {
   "cell_type": "markdown",
   "metadata": {},
   "source": [
    "## model and data declaration"
   ]
  },
  {
   "cell_type": "code",
   "execution_count": 39,
   "metadata": {},
   "outputs": [
    {
     "name": "stdout",
     "output_type": "stream",
     "text": [
      "False\n",
      "data\\train.csv\n"
     ]
    }
   ],
   "source": [
    "device = torch.device(\"cuda:0\" if torch.cuda.is_available() else \"cpu\")\n",
    "\n",
    "model, input_size, norm_mean, norm_std = initialize_models('resnet', num_classes = 7)\n",
    "model = model.to(device)\n",
    "# input_size = (224, 224)\n",
    "# norm_mean = [0.485, 0.456, 0.406]\n",
    "# norm_std = [0.229, 0.224, 0.225]\n",
    "\n",
    "train_transform, test_transform = get_transforms(input_size, norm_mean, norm_std)\n",
    "\n",
    "dataloader = {'train': get_data_loader('train.csv', transform = train_transform, batch_size = 32),\n",
    "           'val': get_data_loader('validation.csv',  transform = train_transform, batch_size = 32),\n",
    "             'test': get_data_loader('test.csv', transform = train_transform, batch_size = 32)}"
   ]
  },
  {
   "cell_type": "code",
   "execution_count": 29,
   "metadata": {},
   "outputs": [
    {
     "name": "stdout",
     "output_type": "stream",
     "text": [
      "----------------------------------------------------------------\n",
      "        Layer (type)               Output Shape         Param #\n",
      "================================================================\n",
      "            Conv2d-1         [-1, 64, 112, 112]           9,408\n",
      "       BatchNorm2d-2         [-1, 64, 112, 112]             128\n",
      "              ReLU-3         [-1, 64, 112, 112]               0\n",
      "         MaxPool2d-4           [-1, 64, 56, 56]               0\n",
      "            Conv2d-5           [-1, 64, 56, 56]           4,096\n",
      "       BatchNorm2d-6           [-1, 64, 56, 56]             128\n",
      "              ReLU-7           [-1, 64, 56, 56]               0\n",
      "            Conv2d-8           [-1, 64, 56, 56]          36,864\n",
      "       BatchNorm2d-9           [-1, 64, 56, 56]             128\n",
      "             ReLU-10           [-1, 64, 56, 56]               0\n",
      "           Conv2d-11          [-1, 256, 56, 56]          16,384\n",
      "      BatchNorm2d-12          [-1, 256, 56, 56]             512\n",
      "           Conv2d-13          [-1, 256, 56, 56]          16,384\n",
      "      BatchNorm2d-14          [-1, 256, 56, 56]             512\n",
      "             ReLU-15          [-1, 256, 56, 56]               0\n",
      "           Conv2d-16           [-1, 64, 56, 56]          16,384\n",
      "      BatchNorm2d-17           [-1, 64, 56, 56]             128\n",
      "             ReLU-18           [-1, 64, 56, 56]               0\n",
      "           Conv2d-19           [-1, 64, 56, 56]          36,864\n",
      "      BatchNorm2d-20           [-1, 64, 56, 56]             128\n",
      "             ReLU-21           [-1, 64, 56, 56]               0\n",
      "           Conv2d-22          [-1, 256, 56, 56]          16,384\n",
      "      BatchNorm2d-23          [-1, 256, 56, 56]             512\n",
      "             ReLU-24          [-1, 256, 56, 56]               0\n",
      "           Conv2d-25           [-1, 64, 56, 56]          16,384\n",
      "      BatchNorm2d-26           [-1, 64, 56, 56]             128\n",
      "             ReLU-27           [-1, 64, 56, 56]               0\n",
      "           Conv2d-28           [-1, 64, 56, 56]          36,864\n",
      "      BatchNorm2d-29           [-1, 64, 56, 56]             128\n",
      "             ReLU-30           [-1, 64, 56, 56]               0\n",
      "           Conv2d-31          [-1, 256, 56, 56]          16,384\n",
      "      BatchNorm2d-32          [-1, 256, 56, 56]             512\n",
      "             ReLU-33          [-1, 256, 56, 56]               0\n",
      "           Conv2d-34          [-1, 128, 56, 56]          32,768\n",
      "      BatchNorm2d-35          [-1, 128, 56, 56]             256\n",
      "             ReLU-36          [-1, 128, 56, 56]               0\n",
      "           Conv2d-37          [-1, 128, 28, 28]         147,456\n",
      "      BatchNorm2d-38          [-1, 128, 28, 28]             256\n",
      "             ReLU-39          [-1, 128, 28, 28]               0\n",
      "           Conv2d-40          [-1, 512, 28, 28]          65,536\n",
      "      BatchNorm2d-41          [-1, 512, 28, 28]           1,024\n",
      "           Conv2d-42          [-1, 512, 28, 28]         131,072\n",
      "      BatchNorm2d-43          [-1, 512, 28, 28]           1,024\n",
      "             ReLU-44          [-1, 512, 28, 28]               0\n",
      "           Conv2d-45          [-1, 128, 28, 28]          65,536\n",
      "      BatchNorm2d-46          [-1, 128, 28, 28]             256\n",
      "             ReLU-47          [-1, 128, 28, 28]               0\n",
      "           Conv2d-48          [-1, 128, 28, 28]         147,456\n",
      "      BatchNorm2d-49          [-1, 128, 28, 28]             256\n",
      "             ReLU-50          [-1, 128, 28, 28]               0\n",
      "           Conv2d-51          [-1, 512, 28, 28]          65,536\n",
      "      BatchNorm2d-52          [-1, 512, 28, 28]           1,024\n",
      "             ReLU-53          [-1, 512, 28, 28]               0\n",
      "           Conv2d-54          [-1, 128, 28, 28]          65,536\n",
      "      BatchNorm2d-55          [-1, 128, 28, 28]             256\n",
      "             ReLU-56          [-1, 128, 28, 28]               0\n",
      "           Conv2d-57          [-1, 128, 28, 28]         147,456\n",
      "      BatchNorm2d-58          [-1, 128, 28, 28]             256\n",
      "             ReLU-59          [-1, 128, 28, 28]               0\n",
      "           Conv2d-60          [-1, 512, 28, 28]          65,536\n",
      "      BatchNorm2d-61          [-1, 512, 28, 28]           1,024\n",
      "             ReLU-62          [-1, 512, 28, 28]               0\n",
      "           Conv2d-63          [-1, 128, 28, 28]          65,536\n",
      "      BatchNorm2d-64          [-1, 128, 28, 28]             256\n",
      "             ReLU-65          [-1, 128, 28, 28]               0\n",
      "           Conv2d-66          [-1, 128, 28, 28]         147,456\n",
      "      BatchNorm2d-67          [-1, 128, 28, 28]             256\n",
      "             ReLU-68          [-1, 128, 28, 28]               0\n",
      "           Conv2d-69          [-1, 512, 28, 28]          65,536\n",
      "      BatchNorm2d-70          [-1, 512, 28, 28]           1,024\n",
      "             ReLU-71          [-1, 512, 28, 28]               0\n",
      "           Conv2d-72          [-1, 256, 28, 28]         131,072\n",
      "      BatchNorm2d-73          [-1, 256, 28, 28]             512\n",
      "             ReLU-74          [-1, 256, 28, 28]               0\n",
      "           Conv2d-75          [-1, 256, 14, 14]         589,824\n",
      "      BatchNorm2d-76          [-1, 256, 14, 14]             512\n",
      "             ReLU-77          [-1, 256, 14, 14]               0\n",
      "           Conv2d-78         [-1, 1024, 14, 14]         262,144\n",
      "      BatchNorm2d-79         [-1, 1024, 14, 14]           2,048\n",
      "           Conv2d-80         [-1, 1024, 14, 14]         524,288\n",
      "      BatchNorm2d-81         [-1, 1024, 14, 14]           2,048\n",
      "             ReLU-82         [-1, 1024, 14, 14]               0\n",
      "           Conv2d-83          [-1, 256, 14, 14]         262,144\n",
      "      BatchNorm2d-84          [-1, 256, 14, 14]             512\n",
      "             ReLU-85          [-1, 256, 14, 14]               0\n",
      "           Conv2d-86          [-1, 256, 14, 14]         589,824\n",
      "      BatchNorm2d-87          [-1, 256, 14, 14]             512\n",
      "             ReLU-88          [-1, 256, 14, 14]               0\n",
      "           Conv2d-89         [-1, 1024, 14, 14]         262,144\n",
      "      BatchNorm2d-90         [-1, 1024, 14, 14]           2,048\n",
      "             ReLU-91         [-1, 1024, 14, 14]               0\n",
      "           Conv2d-92          [-1, 256, 14, 14]         262,144\n",
      "      BatchNorm2d-93          [-1, 256, 14, 14]             512\n",
      "             ReLU-94          [-1, 256, 14, 14]               0\n",
      "           Conv2d-95          [-1, 256, 14, 14]         589,824\n",
      "      BatchNorm2d-96          [-1, 256, 14, 14]             512\n",
      "             ReLU-97          [-1, 256, 14, 14]               0\n",
      "           Conv2d-98         [-1, 1024, 14, 14]         262,144\n",
      "      BatchNorm2d-99         [-1, 1024, 14, 14]           2,048\n",
      "            ReLU-100         [-1, 1024, 14, 14]               0\n",
      "          Conv2d-101          [-1, 256, 14, 14]         262,144\n",
      "     BatchNorm2d-102          [-1, 256, 14, 14]             512\n",
      "            ReLU-103          [-1, 256, 14, 14]               0\n",
      "          Conv2d-104          [-1, 256, 14, 14]         589,824\n",
      "     BatchNorm2d-105          [-1, 256, 14, 14]             512\n",
      "            ReLU-106          [-1, 256, 14, 14]               0\n",
      "          Conv2d-107         [-1, 1024, 14, 14]         262,144\n",
      "     BatchNorm2d-108         [-1, 1024, 14, 14]           2,048\n",
      "            ReLU-109         [-1, 1024, 14, 14]               0\n",
      "          Conv2d-110          [-1, 256, 14, 14]         262,144\n",
      "     BatchNorm2d-111          [-1, 256, 14, 14]             512\n",
      "            ReLU-112          [-1, 256, 14, 14]               0\n",
      "          Conv2d-113          [-1, 256, 14, 14]         589,824\n",
      "     BatchNorm2d-114          [-1, 256, 14, 14]             512\n",
      "            ReLU-115          [-1, 256, 14, 14]               0\n",
      "          Conv2d-116         [-1, 1024, 14, 14]         262,144\n",
      "     BatchNorm2d-117         [-1, 1024, 14, 14]           2,048\n",
      "            ReLU-118         [-1, 1024, 14, 14]               0\n",
      "          Conv2d-119          [-1, 256, 14, 14]         262,144\n",
      "     BatchNorm2d-120          [-1, 256, 14, 14]             512\n",
      "            ReLU-121          [-1, 256, 14, 14]               0\n",
      "          Conv2d-122          [-1, 256, 14, 14]         589,824\n",
      "     BatchNorm2d-123          [-1, 256, 14, 14]             512\n",
      "            ReLU-124          [-1, 256, 14, 14]               0\n",
      "          Conv2d-125         [-1, 1024, 14, 14]         262,144\n",
      "     BatchNorm2d-126         [-1, 1024, 14, 14]           2,048\n",
      "            ReLU-127         [-1, 1024, 14, 14]               0\n",
      "          Conv2d-128          [-1, 256, 14, 14]         262,144\n",
      "     BatchNorm2d-129          [-1, 256, 14, 14]             512\n",
      "            ReLU-130          [-1, 256, 14, 14]               0\n",
      "          Conv2d-131          [-1, 256, 14, 14]         589,824\n",
      "     BatchNorm2d-132          [-1, 256, 14, 14]             512\n",
      "            ReLU-133          [-1, 256, 14, 14]               0\n",
      "          Conv2d-134         [-1, 1024, 14, 14]         262,144\n",
      "     BatchNorm2d-135         [-1, 1024, 14, 14]           2,048\n",
      "            ReLU-136         [-1, 1024, 14, 14]               0\n",
      "          Conv2d-137          [-1, 256, 14, 14]         262,144\n",
      "     BatchNorm2d-138          [-1, 256, 14, 14]             512\n",
      "            ReLU-139          [-1, 256, 14, 14]               0\n",
      "          Conv2d-140          [-1, 256, 14, 14]         589,824\n",
      "     BatchNorm2d-141          [-1, 256, 14, 14]             512\n",
      "            ReLU-142          [-1, 256, 14, 14]               0\n",
      "          Conv2d-143         [-1, 1024, 14, 14]         262,144\n",
      "     BatchNorm2d-144         [-1, 1024, 14, 14]           2,048\n",
      "            ReLU-145         [-1, 1024, 14, 14]               0\n",
      "          Conv2d-146          [-1, 256, 14, 14]         262,144\n",
      "     BatchNorm2d-147          [-1, 256, 14, 14]             512\n",
      "            ReLU-148          [-1, 256, 14, 14]               0\n",
      "          Conv2d-149          [-1, 256, 14, 14]         589,824\n",
      "     BatchNorm2d-150          [-1, 256, 14, 14]             512\n",
      "            ReLU-151          [-1, 256, 14, 14]               0\n",
      "          Conv2d-152         [-1, 1024, 14, 14]         262,144\n",
      "     BatchNorm2d-153         [-1, 1024, 14, 14]           2,048\n",
      "            ReLU-154         [-1, 1024, 14, 14]               0\n",
      "          Conv2d-155          [-1, 256, 14, 14]         262,144\n",
      "     BatchNorm2d-156          [-1, 256, 14, 14]             512\n",
      "            ReLU-157          [-1, 256, 14, 14]               0\n",
      "          Conv2d-158          [-1, 256, 14, 14]         589,824\n",
      "     BatchNorm2d-159          [-1, 256, 14, 14]             512\n",
      "            ReLU-160          [-1, 256, 14, 14]               0\n",
      "          Conv2d-161         [-1, 1024, 14, 14]         262,144\n",
      "     BatchNorm2d-162         [-1, 1024, 14, 14]           2,048\n",
      "            ReLU-163         [-1, 1024, 14, 14]               0\n",
      "          Conv2d-164          [-1, 256, 14, 14]         262,144\n",
      "     BatchNorm2d-165          [-1, 256, 14, 14]             512\n",
      "            ReLU-166          [-1, 256, 14, 14]               0\n",
      "          Conv2d-167          [-1, 256, 14, 14]         589,824\n",
      "     BatchNorm2d-168          [-1, 256, 14, 14]             512\n",
      "            ReLU-169          [-1, 256, 14, 14]               0\n",
      "          Conv2d-170         [-1, 1024, 14, 14]         262,144\n",
      "     BatchNorm2d-171         [-1, 1024, 14, 14]           2,048\n",
      "            ReLU-172         [-1, 1024, 14, 14]               0\n",
      "          Conv2d-173          [-1, 256, 14, 14]         262,144\n",
      "     BatchNorm2d-174          [-1, 256, 14, 14]             512\n",
      "            ReLU-175          [-1, 256, 14, 14]               0\n",
      "          Conv2d-176          [-1, 256, 14, 14]         589,824\n",
      "     BatchNorm2d-177          [-1, 256, 14, 14]             512\n",
      "            ReLU-178          [-1, 256, 14, 14]               0\n",
      "          Conv2d-179         [-1, 1024, 14, 14]         262,144\n",
      "     BatchNorm2d-180         [-1, 1024, 14, 14]           2,048\n",
      "            ReLU-181         [-1, 1024, 14, 14]               0\n",
      "          Conv2d-182          [-1, 256, 14, 14]         262,144\n",
      "     BatchNorm2d-183          [-1, 256, 14, 14]             512\n",
      "            ReLU-184          [-1, 256, 14, 14]               0\n",
      "          Conv2d-185          [-1, 256, 14, 14]         589,824\n",
      "     BatchNorm2d-186          [-1, 256, 14, 14]             512\n",
      "            ReLU-187          [-1, 256, 14, 14]               0\n",
      "          Conv2d-188         [-1, 1024, 14, 14]         262,144\n",
      "     BatchNorm2d-189         [-1, 1024, 14, 14]           2,048\n",
      "            ReLU-190         [-1, 1024, 14, 14]               0\n",
      "          Conv2d-191          [-1, 256, 14, 14]         262,144\n",
      "     BatchNorm2d-192          [-1, 256, 14, 14]             512\n",
      "            ReLU-193          [-1, 256, 14, 14]               0\n",
      "          Conv2d-194          [-1, 256, 14, 14]         589,824\n",
      "     BatchNorm2d-195          [-1, 256, 14, 14]             512\n",
      "            ReLU-196          [-1, 256, 14, 14]               0\n",
      "          Conv2d-197         [-1, 1024, 14, 14]         262,144\n",
      "     BatchNorm2d-198         [-1, 1024, 14, 14]           2,048\n",
      "            ReLU-199         [-1, 1024, 14, 14]               0\n",
      "          Conv2d-200          [-1, 256, 14, 14]         262,144\n",
      "     BatchNorm2d-201          [-1, 256, 14, 14]             512\n",
      "            ReLU-202          [-1, 256, 14, 14]               0\n",
      "          Conv2d-203          [-1, 256, 14, 14]         589,824\n",
      "     BatchNorm2d-204          [-1, 256, 14, 14]             512\n",
      "            ReLU-205          [-1, 256, 14, 14]               0\n",
      "          Conv2d-206         [-1, 1024, 14, 14]         262,144\n",
      "     BatchNorm2d-207         [-1, 1024, 14, 14]           2,048\n",
      "            ReLU-208         [-1, 1024, 14, 14]               0\n",
      "          Conv2d-209          [-1, 256, 14, 14]         262,144\n",
      "     BatchNorm2d-210          [-1, 256, 14, 14]             512\n",
      "            ReLU-211          [-1, 256, 14, 14]               0\n",
      "          Conv2d-212          [-1, 256, 14, 14]         589,824\n",
      "     BatchNorm2d-213          [-1, 256, 14, 14]             512\n",
      "            ReLU-214          [-1, 256, 14, 14]               0\n",
      "          Conv2d-215         [-1, 1024, 14, 14]         262,144\n",
      "     BatchNorm2d-216         [-1, 1024, 14, 14]           2,048\n",
      "            ReLU-217         [-1, 1024, 14, 14]               0\n",
      "          Conv2d-218          [-1, 256, 14, 14]         262,144\n",
      "     BatchNorm2d-219          [-1, 256, 14, 14]             512\n",
      "            ReLU-220          [-1, 256, 14, 14]               0\n",
      "          Conv2d-221          [-1, 256, 14, 14]         589,824\n",
      "     BatchNorm2d-222          [-1, 256, 14, 14]             512\n",
      "            ReLU-223          [-1, 256, 14, 14]               0\n",
      "          Conv2d-224         [-1, 1024, 14, 14]         262,144\n",
      "     BatchNorm2d-225         [-1, 1024, 14, 14]           2,048\n",
      "            ReLU-226         [-1, 1024, 14, 14]               0\n",
      "          Conv2d-227          [-1, 256, 14, 14]         262,144\n",
      "     BatchNorm2d-228          [-1, 256, 14, 14]             512\n",
      "            ReLU-229          [-1, 256, 14, 14]               0\n",
      "          Conv2d-230          [-1, 256, 14, 14]         589,824\n",
      "     BatchNorm2d-231          [-1, 256, 14, 14]             512\n",
      "            ReLU-232          [-1, 256, 14, 14]               0\n",
      "          Conv2d-233         [-1, 1024, 14, 14]         262,144\n",
      "     BatchNorm2d-234         [-1, 1024, 14, 14]           2,048\n",
      "            ReLU-235         [-1, 1024, 14, 14]               0\n",
      "          Conv2d-236          [-1, 256, 14, 14]         262,144\n",
      "     BatchNorm2d-237          [-1, 256, 14, 14]             512\n",
      "            ReLU-238          [-1, 256, 14, 14]               0\n",
      "          Conv2d-239          [-1, 256, 14, 14]         589,824\n",
      "     BatchNorm2d-240          [-1, 256, 14, 14]             512\n",
      "            ReLU-241          [-1, 256, 14, 14]               0\n",
      "          Conv2d-242         [-1, 1024, 14, 14]         262,144\n",
      "     BatchNorm2d-243         [-1, 1024, 14, 14]           2,048\n",
      "            ReLU-244         [-1, 1024, 14, 14]               0\n",
      "          Conv2d-245          [-1, 256, 14, 14]         262,144\n",
      "     BatchNorm2d-246          [-1, 256, 14, 14]             512\n",
      "            ReLU-247          [-1, 256, 14, 14]               0\n",
      "          Conv2d-248          [-1, 256, 14, 14]         589,824\n",
      "     BatchNorm2d-249          [-1, 256, 14, 14]             512\n",
      "            ReLU-250          [-1, 256, 14, 14]               0\n",
      "          Conv2d-251         [-1, 1024, 14, 14]         262,144\n",
      "     BatchNorm2d-252         [-1, 1024, 14, 14]           2,048\n",
      "            ReLU-253         [-1, 1024, 14, 14]               0\n",
      "          Conv2d-254          [-1, 256, 14, 14]         262,144\n",
      "     BatchNorm2d-255          [-1, 256, 14, 14]             512\n",
      "            ReLU-256          [-1, 256, 14, 14]               0\n",
      "          Conv2d-257          [-1, 256, 14, 14]         589,824\n",
      "     BatchNorm2d-258          [-1, 256, 14, 14]             512\n",
      "            ReLU-259          [-1, 256, 14, 14]               0\n",
      "          Conv2d-260         [-1, 1024, 14, 14]         262,144\n",
      "     BatchNorm2d-261         [-1, 1024, 14, 14]           2,048\n",
      "            ReLU-262         [-1, 1024, 14, 14]               0\n",
      "          Conv2d-263          [-1, 256, 14, 14]         262,144\n",
      "     BatchNorm2d-264          [-1, 256, 14, 14]             512\n",
      "            ReLU-265          [-1, 256, 14, 14]               0\n",
      "          Conv2d-266          [-1, 256, 14, 14]         589,824\n",
      "     BatchNorm2d-267          [-1, 256, 14, 14]             512\n",
      "            ReLU-268          [-1, 256, 14, 14]               0\n",
      "          Conv2d-269         [-1, 1024, 14, 14]         262,144\n",
      "     BatchNorm2d-270         [-1, 1024, 14, 14]           2,048\n",
      "            ReLU-271         [-1, 1024, 14, 14]               0\n",
      "          Conv2d-272          [-1, 256, 14, 14]         262,144\n",
      "     BatchNorm2d-273          [-1, 256, 14, 14]             512\n",
      "            ReLU-274          [-1, 256, 14, 14]               0\n",
      "          Conv2d-275          [-1, 256, 14, 14]         589,824\n",
      "     BatchNorm2d-276          [-1, 256, 14, 14]             512\n",
      "            ReLU-277          [-1, 256, 14, 14]               0\n",
      "          Conv2d-278         [-1, 1024, 14, 14]         262,144\n",
      "     BatchNorm2d-279         [-1, 1024, 14, 14]           2,048\n",
      "            ReLU-280         [-1, 1024, 14, 14]               0\n",
      "          Conv2d-281          [-1, 512, 14, 14]         524,288\n",
      "     BatchNorm2d-282          [-1, 512, 14, 14]           1,024\n",
      "            ReLU-283          [-1, 512, 14, 14]               0\n",
      "          Conv2d-284            [-1, 512, 7, 7]       2,359,296\n",
      "     BatchNorm2d-285            [-1, 512, 7, 7]           1,024\n",
      "            ReLU-286            [-1, 512, 7, 7]               0\n",
      "          Conv2d-287           [-1, 2048, 7, 7]       1,048,576\n",
      "     BatchNorm2d-288           [-1, 2048, 7, 7]           4,096\n",
      "          Conv2d-289           [-1, 2048, 7, 7]       2,097,152\n",
      "     BatchNorm2d-290           [-1, 2048, 7, 7]           4,096\n",
      "            ReLU-291           [-1, 2048, 7, 7]               0\n",
      "          Conv2d-292            [-1, 512, 7, 7]       1,048,576\n",
      "     BatchNorm2d-293            [-1, 512, 7, 7]           1,024\n",
      "            ReLU-294            [-1, 512, 7, 7]               0\n",
      "          Conv2d-295            [-1, 512, 7, 7]       2,359,296\n",
      "     BatchNorm2d-296            [-1, 512, 7, 7]           1,024\n",
      "            ReLU-297            [-1, 512, 7, 7]               0\n",
      "          Conv2d-298           [-1, 2048, 7, 7]       1,048,576\n",
      "     BatchNorm2d-299           [-1, 2048, 7, 7]           4,096\n",
      "            ReLU-300           [-1, 2048, 7, 7]               0\n",
      "          Conv2d-301            [-1, 512, 7, 7]       1,048,576\n",
      "     BatchNorm2d-302            [-1, 512, 7, 7]           1,024\n",
      "            ReLU-303            [-1, 512, 7, 7]               0\n",
      "          Conv2d-304            [-1, 512, 7, 7]       2,359,296\n",
      "     BatchNorm2d-305            [-1, 512, 7, 7]           1,024\n",
      "            ReLU-306            [-1, 512, 7, 7]               0\n",
      "          Conv2d-307           [-1, 2048, 7, 7]       1,048,576\n",
      "     BatchNorm2d-308           [-1, 2048, 7, 7]           4,096\n",
      "            ReLU-309           [-1, 2048, 7, 7]               0\n",
      "AdaptiveAvgPool2d-310           [-1, 2048, 1, 1]               0\n",
      "AdaptiveMaxPool2d-311           [-1, 2048, 1, 1]               0\n",
      "         Flatten-312                 [-1, 4096]               0\n",
      "     BatchNorm1d-313                 [-1, 4096]           8,192\n",
      "         Dropout-314                 [-1, 4096]               0\n",
      "          Linear-315                 [-1, 1024]       4,195,328\n",
      "     BatchNorm1d-316                 [-1, 1024]           2,048\n",
      "         Dropout-317                 [-1, 1024]               0\n",
      "          Linear-318                    [-1, 7]           7,175\n",
      "================================================================\n",
      "Total params: 46,712,903\n",
      "Trainable params: 4,212,743\n",
      "Non-trainable params: 42,500,160\n",
      "----------------------------------------------------------------\n",
      "Input size (MB): 0.57\n",
      "Forward/backward pass size (MB): 361.71\n",
      "Params size (MB): 178.20\n",
      "Estimated Total Size (MB): 540.48\n",
      "----------------------------------------------------------------\n"
     ]
    },
    {
     "name": "stdout",
     "output_type": "stream",
     "text": [
      "\n"
     ]
    },
    {
     "data": {
      "text/plain": [
       "(tensor(46712903), tensor(4212743))"
      ]
     },
     "execution_count": 29,
     "metadata": {},
     "output_type": "execute_result"
    }
   ],
   "source": [
    "summary(model, input_size = (3, 224, 224))\n",
    "# model"
   ]
  },
  {
   "cell_type": "code",
   "execution_count": 30,
   "metadata": {},
   "outputs": [
    {
     "name": "stdout",
     "output_type": "stream",
     "text": [
      "<class 'torch.Tensor'>\n",
      "torch.Size([32, 3, 224, 224])\n",
      "torch.Size([32])\n"
     ]
    },
    {
     "data": {
      "image/png": "[encoded data removed]",
      "text/plain": [
       "<Figure size 432x288 with 1 Axes>"
      ]
     },
     "metadata": {
      "needs_background": "light"
     },
     "output_type": "display_data"
    },
    {
     "data": {
      "text/plain": [
       "<Figure size 14400x7200 with 0 Axes>"
      ]
     },
     "metadata": {},
     "output_type": "display_data"
    }
   ],
   "source": [
    "inputs, classes = next(iter(dataloader['train']))\n",
    "\n",
    "# Make a grid from batch\n",
    "inputs = inputs[:7]\n",
    "classes = classes[:7]\n",
    "out = utils.make_grid(inputs)\n",
    "\n",
    "imshow(out, norm_mean, norm_std, title=classes)\n",
    "classes\n",
    "dataiter = iter(dataloader['train'])\n",
    "images,labels = dataiter.next()\n",
    "print(type(images))\n",
    "print(images.shape)\n",
    "print(labels.shape)"
   ]
  },
  {
   "cell_type": "markdown",
   "metadata": {},
   "source": [
    "## Lr finder"
   ]
  },
  {
   "cell_type": "code",
   "execution_count": 21,
   "metadata": {},
   "outputs": [],
   "source": [
    "def lr_finder(model, dataloader, criterion, optmizer, lr_find_epochs = 5, start_lr = 1e-7, end_lr = 0.1):\n",
    "\n",
    "    lr_lambda = lambda x: math.exp(x * math.log(end_lr / start_lr) / (lr_find_epochs * len( dataloader[\"train\"])))\n",
    "    scheduler = torch.optim.lr_scheduler.LambdaLR(optimizer, lr_lambda)\n",
    "\n",
    "    lr_find_loss = []\n",
    "    lr_find_lr = []\n",
    "\n",
    "    iter = 0\n",
    "\n",
    "    smoothing = 0.05\n",
    "\n",
    "    for i in range(lr_find_epochs):\n",
    "      print(\"epoch {}\".format(i))\n",
    "      for inputs, labels in tqdm(dataloader[\"train\"]):\n",
    "\n",
    "        # Send to device\n",
    "        inputs = inputs.to(device)\n",
    "        labels = labels.to(device)\n",
    "\n",
    "        # Training mode and zero gradients\n",
    "        model.train()\n",
    "        optimizer.zero_grad()\n",
    "\n",
    "        # Get outputs to calc loss\n",
    "        outputs = model(inputs)\n",
    "        loss = criterion(outputs, labels)\n",
    "\n",
    "        # Backward pass\n",
    "        loss.backward()\n",
    "        optimizer.step()\n",
    "\n",
    "        # Update LR\n",
    "        scheduler.step()\n",
    "        lr_step = optimizer.state_dict()[\"param_groups\"][0][\"lr\"]\n",
    "        lr_find_lr.append(lr_step)\n",
    "\n",
    "        # smooth the loss\n",
    "        if iter==0:\n",
    "          lr_find_loss.append(loss)\n",
    "        else:\n",
    "          loss = smoothing  * loss + (1 - smoothing) * lr_find_loss[-1]\n",
    "          lr_find_loss.append(loss)\n",
    "\n",
    "        iter += 1\n",
    "    \n",
    "    max_lr = lr_find_lr[lr_find_loss.index(min(lr_find_loss))] / 10\n",
    "    base_lr = max_lr / 6\n",
    "    return lr_find_loss, lr_find_lr, max_lr, base_lr\n"
   ]
  },
  {
   "cell_type": "code",
   "execution_count": 48,
   "metadata": {},
   "outputs": [],
   "source": [
    "start_lr = 1e-7\n",
    "criterion = nn.CrossEntropyLoss().to(device)  \n",
    "optimizer = optim.Adam(model.parameters(), lr=start_lr)\n",
    "loss, lr, max_lr, base_lr = lr_finder(model, dataloader, criterion, optimizer, start_lr = start_lr)"
   ]
  },
  {
   "cell_type": "code",
   "execution_count": 20,
   "metadata": {},
   "outputs": [
    {
     "name": "stdout",
     "output_type": "stream",
     "text": [
      "6.827877398078823e-05\n",
      "1.1379795663464706e-05\n"
     ]
    },
    {
     "data": {
      "text/plain": [
       "tensor(0.7610, device='cuda:0', grad_fn=<AddBackward0>)"
      ]
     },
     "execution_count": 20,
     "metadata": {},
     "output_type": "execute_result"
    }
   ],
   "source": [
    "print(max_lr)\n",
    "print(base_lr)\n",
    "min(loss)\n",
    "# len(lr)"
   ]
  },
  {
   "cell_type": "code",
   "execution_count": 21,
   "metadata": {},
   "outputs": [
    {
     "data": {
      "image/png": "[encoded data removed]",
      "text/plain": [
       "<Figure size 432x288 with 1 Axes>"
      ]
     },
     "metadata": {
      "needs_background": "light"
     },
     "output_type": "display_data"
    }
   ],
   "source": [
    "plt.ylabel(\"loss\")\n",
    "plt.xlabel(\"learning rate\")\n",
    "plt.xscale(\"log\")\n",
    "plt.plot(lr, loss)\n",
    "plt.savefig('graphs/resnet101-adam-2/lr-loss.png')\n",
    "plt.show()"
   ]
  },
  {
   "cell_type": "code",
   "execution_count": 22,
   "metadata": {},
   "outputs": [
    {
     "data": {
      "image/png": "[encoded data removed]",
      "text/plain": [
       "<Figure size 432x288 with 1 Axes>"
      ]
     },
     "metadata": {
      "needs_background": "light"
     },
     "output_type": "display_data"
    }
   ],
   "source": [
    "plt.ylabel(\"lr\")\n",
    "plt.xlabel(\"step\")\n",
    "plt.plot(range(len(lr)), lr)\n",
    "# plt.savefig('graphs/resnet101-adam-2/lr-growth.png')\n",
    "plt.show()"
   ]
  },
  {
   "cell_type": "markdown",
   "metadata": {},
   "source": [
    "## Training "
   ]
  },
  {
   "cell_type": "code",
   "execution_count": 31,
   "metadata": {},
   "outputs": [
    {
     "name": "stdout",
     "output_type": "stream",
     "text": [
      "Epoch 0/29\n",
      "----------\n"
     ]
    },
    {
     "data": {
      "application/vnd.jupyter.widget-view+json": {
       "model_id": "3ddecfea0dcd41eda6c6c03001476651",
       "version_major": 2,
       "version_minor": 0
      },
      "text/plain": [
       "HBox(children=(IntProgress(value=0, max=210), HTML(value='')))"
      ]
     },
     "metadata": {},
     "output_type": "display_data"
    },
    {
     "name": "stdout",
     "output_type": "stream",
     "text": [
      "\n",
      "train Loss: 0.9321 Acc: 0.6675\n"
     ]
    },
    {
     "data": {
      "application/vnd.jupyter.widget-view+json": {
       "model_id": "528cdf1407a14caf96dd3eec2a4cb2f8",
       "version_major": 2,
       "version_minor": 0
      },
      "text/plain": [
       "HBox(children=(IntProgress(value=0, max=35), HTML(value='')))"
      ]
     },
     "metadata": {},
     "output_type": "display_data"
    },
    {
     "name": "stdout",
     "output_type": "stream",
     "text": [
      "\n",
      "val Loss: 0.5663 Acc: 0.8150\n",
      "\n",
      "Epoch 1/29\n",
      "----------\n"
     ]
    },
    {
     "data": {
      "application/vnd.jupyter.widget-view+json": {
       "model_id": "245616c95de3454084d4e5c5127675b0",
       "version_major": 2,
       "version_minor": 0
      },
      "text/plain": [
       "HBox(children=(IntProgress(value=0, max=210), HTML(value='')))"
      ]
     },
     "metadata": {},
     "output_type": "display_data"
    },
    {
     "name": "stdout",
     "output_type": "stream",
     "text": [
      "\n",
      "train Loss: 0.6270 Acc: 0.7814\n"
     ]
    },
    {
     "data": {
      "application/vnd.jupyter.widget-view+json": {
       "model_id": "d593a57114fe46c0817bc6a1eec1409b",
       "version_major": 2,
       "version_minor": 0
      },
      "text/plain": [
       "HBox(children=(IntProgress(value=0, max=35), HTML(value='')))"
      ]
     },
     "metadata": {},
     "output_type": "display_data"
    },
    {
     "name": "stdout",
     "output_type": "stream",
     "text": [
      "\n",
      "val Loss: 0.5499 Acc: 0.8150\n",
      "\n",
      "Epoch 2/29\n",
      "----------\n"
     ]
    },
    {
     "data": {
      "application/vnd.jupyter.widget-view+json": {
       "model_id": "4586fbbd3321414f9f97319e46d62776",
       "version_major": 2,
       "version_minor": 0
      },
      "text/plain": [
       "HBox(children=(IntProgress(value=0, max=210), HTML(value='')))"
      ]
     },
     "metadata": {},
     "output_type": "display_data"
    },
    {
     "name": "stdout",
     "output_type": "stream",
     "text": [
      "\n",
      "train Loss: 0.5459 Acc: 0.8152\n"
     ]
    },
    {
     "data": {
      "application/vnd.jupyter.widget-view+json": {
       "model_id": "6998d013c64844339ae40db3332d72c9",
       "version_major": 2,
       "version_minor": 0
      },
      "text/plain": [
       "HBox(children=(IntProgress(value=0, max=35), HTML(value='')))"
      ]
     },
     "metadata": {},
     "output_type": "display_data"
    },
    {
     "name": "stdout",
     "output_type": "stream",
     "text": [
      "\n",
      "val Loss: 0.5128 Acc: 0.8233\n",
      "\n",
      "Epoch 3/29\n",
      "----------\n"
     ]
    },
    {
     "data": {
      "application/vnd.jupyter.widget-view+json": {
       "model_id": "95bc00a9884e4ceaa25938c66ce17067",
       "version_major": 2,
       "version_minor": 0
      },
      "text/plain": [
       "HBox(children=(IntProgress(value=0, max=210), HTML(value='')))"
      ]
     },
     "metadata": {},
     "output_type": "display_data"
    },
    {
     "name": "stdout",
     "output_type": "stream",
     "text": [
      "\n",
      "train Loss: 0.4685 Acc: 0.8463\n"
     ]
    },
    {
     "data": {
      "application/vnd.jupyter.widget-view+json": {
       "model_id": "73f1f717caae4f4889c362a32afc1e57",
       "version_major": 2,
       "version_minor": 0
      },
      "text/plain": [
       "HBox(children=(IntProgress(value=0, max=35), HTML(value='')))"
      ]
     },
     "metadata": {},
     "output_type": "display_data"
    },
    {
     "name": "stdout",
     "output_type": "stream",
     "text": [
      "\n",
      "val Loss: 0.4270 Acc: 0.8581\n",
      "\n",
      "Epoch 4/29\n",
      "----------\n"
     ]
    },
    {
     "data": {
      "application/vnd.jupyter.widget-view+json": {
       "model_id": "db48f83d59c345f69a322b892ce0fffd",
       "version_major": 2,
       "version_minor": 0
      },
      "text/plain": [
       "HBox(children=(IntProgress(value=0, max=210), HTML(value='')))"
      ]
     },
     "metadata": {},
     "output_type": "display_data"
    },
    {
     "name": "stdout",
     "output_type": "stream",
     "text": [
      "\n",
      "train Loss: 0.4262 Acc: 0.8558\n"
     ]
    },
    {
     "data": {
      "application/vnd.jupyter.widget-view+json": {
       "model_id": "9cd06bc478994cecbcd20bf7109549d4",
       "version_major": 2,
       "version_minor": 0
      },
      "text/plain": [
       "HBox(children=(IntProgress(value=0, max=35), HTML(value='')))"
      ]
     },
     "metadata": {},
     "output_type": "display_data"
    },
    {
     "name": "stdout",
     "output_type": "stream",
     "text": [
      "\n",
      "val Loss: 0.4474 Acc: 0.8562\n",
      "\n",
      "Epoch 5/29\n",
      "----------\n"
     ]
    },
    {
     "data": {
      "application/vnd.jupyter.widget-view+json": {
       "model_id": "a647f07d56fa442abc7aa6925088dcf6",
       "version_major": 2,
       "version_minor": 0
      },
      "text/plain": [
       "HBox(children=(IntProgress(value=0, max=210), HTML(value='')))"
      ]
     },
     "metadata": {},
     "output_type": "display_data"
    },
    {
     "name": "stdout",
     "output_type": "stream",
     "text": [
      "\n",
      "train Loss: 0.3919 Acc: 0.8682\n"
     ]
    },
    {
     "data": {
      "application/vnd.jupyter.widget-view+json": {
       "model_id": "29d5beb649804a389dfd5b206b074524",
       "version_major": 2,
       "version_minor": 0
      },
      "text/plain": [
       "HBox(children=(IntProgress(value=0, max=35), HTML(value='')))"
      ]
     },
     "metadata": {},
     "output_type": "display_data"
    },
    {
     "name": "stdout",
     "output_type": "stream",
     "text": [
      "\n",
      "val Loss: 0.4317 Acc: 0.8681\n",
      "\n",
      "Epoch 6/29\n",
      "----------\n"
     ]
    },
    {
     "data": {
      "application/vnd.jupyter.widget-view+json": {
       "model_id": "89492d814c564f198bb6537bbc42c56c",
       "version_major": 2,
       "version_minor": 0
      },
      "text/plain": [
       "HBox(children=(IntProgress(value=0, max=210), HTML(value='')))"
      ]
     },
     "metadata": {},
     "output_type": "display_data"
    },
    {
     "name": "stdout",
     "output_type": "stream",
     "text": [
      "\n",
      "train Loss: 0.3434 Acc: 0.8894\n"
     ]
    },
    {
     "data": {
      "application/vnd.jupyter.widget-view+json": {
       "model_id": "9898f3c398b5434aa46742f32490967a",
       "version_major": 2,
       "version_minor": 0
      },
      "text/plain": [
       "HBox(children=(IntProgress(value=0, max=35), HTML(value='')))"
      ]
     },
     "metadata": {},
     "output_type": "display_data"
    },
    {
     "name": "stdout",
     "output_type": "stream",
     "text": [
      "\n",
      "val Loss: 0.4887 Acc: 0.8416\n",
      "\n",
      "Epoch 7/29\n",
      "----------\n"
     ]
    },
    {
     "data": {
      "application/vnd.jupyter.widget-view+json": {
       "model_id": "0ca44145146a4be7865ac20f03856e2c",
       "version_major": 2,
       "version_minor": 0
      },
      "text/plain": [
       "HBox(children=(IntProgress(value=0, max=210), HTML(value='')))"
      ]
     },
     "metadata": {},
     "output_type": "display_data"
    },
    {
     "name": "stdout",
     "output_type": "stream",
     "text": [
      "\n",
      "train Loss: 0.3313 Acc: 0.8865\n"
     ]
    },
    {
     "data": {
      "application/vnd.jupyter.widget-view+json": {
       "model_id": "54b9fb88935e476cb8f98d29b40e4bd5",
       "version_major": 2,
       "version_minor": 0
      },
      "text/plain": [
       "HBox(children=(IntProgress(value=0, max=35), HTML(value='')))"
      ]
     },
     "metadata": {},
     "output_type": "display_data"
    },
    {
     "name": "stdout",
     "output_type": "stream",
     "text": [
      "\n",
      "val Loss: 0.4705 Acc: 0.8663\n",
      "\n",
      "Epoch 8/29\n",
      "----------\n"
     ]
    },
    {
     "data": {
      "application/vnd.jupyter.widget-view+json": {
       "model_id": "3e47c5302e844fc99a2f5061a6b15392",
       "version_major": 2,
       "version_minor": 0
      },
      "text/plain": [
       "HBox(children=(IntProgress(value=0, max=210), HTML(value='')))"
      ]
     },
     "metadata": {},
     "output_type": "display_data"
    },
    {
     "name": "stdout",
     "output_type": "stream",
     "text": [
      "\n",
      "train Loss: 0.3123 Acc: 0.8971\n"
     ]
    },
    {
     "data": {
      "application/vnd.jupyter.widget-view+json": {
       "model_id": "9f654cc34d944ed4821ff9e3f03ad223",
       "version_major": 2,
       "version_minor": 0
      },
      "text/plain": [
       "HBox(children=(IntProgress(value=0, max=35), HTML(value='')))"
      ]
     },
     "metadata": {},
     "output_type": "display_data"
    },
    {
     "name": "stdout",
     "output_type": "stream",
     "text": [
      "\n",
      "val Loss: 0.4100 Acc: 0.8700\n",
      "\n",
      "Epoch 9/29\n",
      "----------\n"
     ]
    },
    {
     "data": {
      "application/vnd.jupyter.widget-view+json": {
       "model_id": "3f3af9432bee4e90af6caad403dd16f4",
       "version_major": 2,
       "version_minor": 0
      },
      "text/plain": [
       "HBox(children=(IntProgress(value=0, max=210), HTML(value='')))"
      ]
     },
     "metadata": {},
     "output_type": "display_data"
    },
    {
     "name": "stdout",
     "output_type": "stream",
     "text": [
      "\n",
      "train Loss: 0.2948 Acc: 0.9031\n"
     ]
    },
    {
     "data": {
      "application/vnd.jupyter.widget-view+json": {
       "model_id": "1ae18107612a40c19df3b389316d8e92",
       "version_major": 2,
       "version_minor": 0
      },
      "text/plain": [
       "HBox(children=(IntProgress(value=0, max=35), HTML(value='')))"
      ]
     },
     "metadata": {},
     "output_type": "display_data"
    },
    {
     "name": "stdout",
     "output_type": "stream",
     "text": [
      "\n",
      "val Loss: 0.4577 Acc: 0.8553\n",
      "\n",
      "Epoch 10/29\n",
      "----------\n"
     ]
    },
    {
     "data": {
      "application/vnd.jupyter.widget-view+json": {
       "model_id": "70b2247620bd45d690a600115ae96910",
       "version_major": 2,
       "version_minor": 0
      },
      "text/plain": [
       "HBox(children=(IntProgress(value=0, max=210), HTML(value='')))"
      ]
     },
     "metadata": {},
     "output_type": "display_data"
    },
    {
     "name": "stdout",
     "output_type": "stream",
     "text": [
      "\n",
      "train Loss: 0.2755 Acc: 0.9077\n"
     ]
    },
    {
     "data": {
      "application/vnd.jupyter.widget-view+json": {
       "model_id": "ddcb1e8eabc24cca837842803b855ffb",
       "version_major": 2,
       "version_minor": 0
      },
      "text/plain": [
       "HBox(children=(IntProgress(value=0, max=35), HTML(value='')))"
      ]
     },
     "metadata": {},
     "output_type": "display_data"
    },
    {
     "name": "stdout",
     "output_type": "stream",
     "text": [
      "\n",
      "val Loss: 0.5059 Acc: 0.8571\n",
      "\n",
      "Epoch 11/29\n",
      "----------\n"
     ]
    },
    {
     "data": {
      "application/vnd.jupyter.widget-view+json": {
       "model_id": "b9ba0682d9184ba59b79e12b1bc6c944",
       "version_major": 2,
       "version_minor": 0
      },
      "text/plain": [
       "HBox(children=(IntProgress(value=0, max=210), HTML(value='')))"
      ]
     },
     "metadata": {},
     "output_type": "display_data"
    },
    {
     "name": "stdout",
     "output_type": "stream",
     "text": [
      "\n",
      "train Loss: 0.2678 Acc: 0.9126\n"
     ]
    },
    {
     "data": {
      "application/vnd.jupyter.widget-view+json": {
       "model_id": "86d56a100b7a40e59a38303b672370c0",
       "version_major": 2,
       "version_minor": 0
      },
      "text/plain": [
       "HBox(children=(IntProgress(value=0, max=35), HTML(value='')))"
      ]
     },
     "metadata": {},
     "output_type": "display_data"
    },
    {
     "name": "stdout",
     "output_type": "stream",
     "text": [
      "\n",
      "val Loss: 0.4363 Acc: 0.8681\n",
      "\n",
      "Epoch 12/29\n",
      "----------\n"
     ]
    },
    {
     "data": {
      "application/vnd.jupyter.widget-view+json": {
       "model_id": "ebb8fc1549574ded8c40c912aa657e46",
       "version_major": 2,
       "version_minor": 0
      },
      "text/plain": [
       "HBox(children=(IntProgress(value=0, max=210), HTML(value='')))"
      ]
     },
     "metadata": {},
     "output_type": "display_data"
    },
    {
     "name": "stdout",
     "output_type": "stream",
     "text": [
      "\n",
      "train Loss: 0.2505 Acc: 0.9189\n"
     ]
    },
    {
     "data": {
      "application/vnd.jupyter.widget-view+json": {
       "model_id": "81f3f3e32d8243e786c8c865280799e8",
       "version_major": 2,
       "version_minor": 0
      },
      "text/plain": [
       "HBox(children=(IntProgress(value=0, max=35), HTML(value='')))"
      ]
     },
     "metadata": {},
     "output_type": "display_data"
    },
    {
     "name": "stdout",
     "output_type": "stream",
     "text": [
      "\n",
      "val Loss: 0.4760 Acc: 0.8672\n",
      "\n",
      "Epoch 13/29\n",
      "----------\n"
     ]
    },
    {
     "data": {
      "application/vnd.jupyter.widget-view+json": {
       "model_id": "20ff12b7ac8e4054aa282ed68d812bb2",
       "version_major": 2,
       "version_minor": 0
      },
      "text/plain": [
       "HBox(children=(IntProgress(value=0, max=210), HTML(value='')))"
      ]
     },
     "metadata": {},
     "output_type": "display_data"
    },
    {
     "name": "stdout",
     "output_type": "stream",
     "text": [
      "\n",
      "train Loss: 0.2442 Acc: 0.9183\n"
     ]
    },
    {
     "data": {
      "application/vnd.jupyter.widget-view+json": {
       "model_id": "83ab26e27a7a4b3d82662c97a924f299",
       "version_major": 2,
       "version_minor": 0
      },
      "text/plain": [
       "HBox(children=(IntProgress(value=0, max=35), HTML(value='')))"
      ]
     },
     "metadata": {},
     "output_type": "display_data"
    },
    {
     "name": "stdout",
     "output_type": "stream",
     "text": [
      "\n",
      "val Loss: 0.4590 Acc: 0.8526\n",
      "\n",
      "Epoch 14/29\n",
      "----------\n"
     ]
    },
    {
     "data": {
      "application/vnd.jupyter.widget-view+json": {
       "model_id": "a72ed5ab039845538e2862a49152c4e9",
       "version_major": 2,
       "version_minor": 0
      },
      "text/plain": [
       "HBox(children=(IntProgress(value=0, max=210), HTML(value='')))"
      ]
     },
     "metadata": {},
     "output_type": "display_data"
    },
    {
     "name": "stdout",
     "output_type": "stream",
     "text": [
      "\n",
      "train Loss: 0.2163 Acc: 0.9254\n"
     ]
    },
    {
     "data": {
      "application/vnd.jupyter.widget-view+json": {
       "model_id": "5b6eed95be5641f8931a213a3bcb0cf9",
       "version_major": 2,
       "version_minor": 0
      },
      "text/plain": [
       "HBox(children=(IntProgress(value=0, max=35), HTML(value='')))"
      ]
     },
     "metadata": {},
     "output_type": "display_data"
    },
    {
     "name": "stdout",
     "output_type": "stream",
     "text": [
      "\n",
      "val Loss: 0.4545 Acc: 0.8626\n",
      "\n",
      "Epoch 15/29\n",
      "----------\n"
     ]
    },
    {
     "data": {
      "application/vnd.jupyter.widget-view+json": {
       "model_id": "2041d10cc748415cb90373d4edce7a60",
       "version_major": 2,
       "version_minor": 0
      },
      "text/plain": [
       "HBox(children=(IntProgress(value=0, max=210), HTML(value='')))"
      ]
     },
     "metadata": {},
     "output_type": "display_data"
    },
    {
     "name": "stdout",
     "output_type": "stream",
     "text": [
      "\n",
      "train Loss: 0.2142 Acc: 0.9299\n"
     ]
    },
    {
     "data": {
      "application/vnd.jupyter.widget-view+json": {
       "model_id": "8186ce9ee1e14ca9ae3036414807d42b",
       "version_major": 2,
       "version_minor": 0
      },
      "text/plain": [
       "HBox(children=(IntProgress(value=0, max=35), HTML(value='')))"
      ]
     },
     "metadata": {},
     "output_type": "display_data"
    },
    {
     "name": "stdout",
     "output_type": "stream",
     "text": [
      "\n",
      "val Loss: 0.4317 Acc: 0.8672\n",
      "\n",
      "Epoch 16/29\n",
      "----------\n"
     ]
    },
    {
     "data": {
      "application/vnd.jupyter.widget-view+json": {
       "model_id": "a97cc2011c40475eae6cc73f30baa398",
       "version_major": 2,
       "version_minor": 0
      },
      "text/plain": [
       "HBox(children=(IntProgress(value=0, max=210), HTML(value='')))"
      ]
     },
     "metadata": {},
     "output_type": "display_data"
    },
    {
     "name": "stdout",
     "output_type": "stream",
     "text": [
      "\n",
      "train Loss: 0.2175 Acc: 0.9265\n"
     ]
    },
    {
     "data": {
      "application/vnd.jupyter.widget-view+json": {
       "model_id": "5a5e1a1a9627478fa344fdf1214cbc3d",
       "version_major": 2,
       "version_minor": 0
      },
      "text/plain": [
       "HBox(children=(IntProgress(value=0, max=35), HTML(value='')))"
      ]
     },
     "metadata": {},
     "output_type": "display_data"
    },
    {
     "name": "stdout",
     "output_type": "stream",
     "text": [
      "\n",
      "val Loss: 0.4154 Acc: 0.8791\n",
      "\n",
      "Epoch 17/29\n",
      "----------\n"
     ]
    },
    {
     "data": {
      "application/vnd.jupyter.widget-view+json": {
       "model_id": "544be1dba6cf44e59005606762fb6b49",
       "version_major": 2,
       "version_minor": 0
      },
      "text/plain": [
       "HBox(children=(IntProgress(value=0, max=210), HTML(value='')))"
      ]
     },
     "metadata": {},
     "output_type": "display_data"
    },
    {
     "name": "stdout",
     "output_type": "stream",
     "text": [
      "\n",
      "train Loss: 0.1961 Acc: 0.9359\n"
     ]
    },
    {
     "data": {
      "application/vnd.jupyter.widget-view+json": {
       "model_id": "27825f0e43f14a52ab3c2ada32c12814",
       "version_major": 2,
       "version_minor": 0
      },
      "text/plain": [
       "HBox(children=(IntProgress(value=0, max=35), HTML(value='')))"
      ]
     },
     "metadata": {},
     "output_type": "display_data"
    },
    {
     "name": "stdout",
     "output_type": "stream",
     "text": [
      "\n",
      "val Loss: 0.4212 Acc: 0.8681\n",
      "\n",
      "Epoch 18/29\n",
      "----------\n"
     ]
    },
    {
     "data": {
      "application/vnd.jupyter.widget-view+json": {
       "model_id": "558fab3f9aac4a908312ba2b43a67a3a",
       "version_major": 2,
       "version_minor": 0
      },
      "text/plain": [
       "HBox(children=(IntProgress(value=0, max=210), HTML(value='')))"
      ]
     },
     "metadata": {},
     "output_type": "display_data"
    },
    {
     "name": "stdout",
     "output_type": "stream",
     "text": [
      "\n",
      "train Loss: 0.1817 Acc: 0.9398\n"
     ]
    },
    {
     "data": {
      "application/vnd.jupyter.widget-view+json": {
       "model_id": "e18cfd8848a544efa1ff3701c008f202",
       "version_major": 2,
       "version_minor": 0
      },
      "text/plain": [
       "HBox(children=(IntProgress(value=0, max=35), HTML(value='')))"
      ]
     },
     "metadata": {},
     "output_type": "display_data"
    },
    {
     "name": "stdout",
     "output_type": "stream",
     "text": [
      "\n",
      "val Loss: 0.4322 Acc: 0.8663\n",
      "\n",
      "Epoch 19/29\n",
      "----------\n"
     ]
    },
    {
     "data": {
      "application/vnd.jupyter.widget-view+json": {
       "model_id": "a6e93610e3844c419c5ac1e4260aca93",
       "version_major": 2,
       "version_minor": 0
      },
      "text/plain": [
       "HBox(children=(IntProgress(value=0, max=210), HTML(value='')))"
      ]
     },
     "metadata": {},
     "output_type": "display_data"
    },
    {
     "name": "stdout",
     "output_type": "stream",
     "text": [
      "\n",
      "train Loss: 0.1822 Acc: 0.9433\n"
     ]
    },
    {
     "data": {
      "application/vnd.jupyter.widget-view+json": {
       "model_id": "eb8542cb8f3345929ac4aacc9fd882ca",
       "version_major": 2,
       "version_minor": 0
      },
      "text/plain": [
       "HBox(children=(IntProgress(value=0, max=35), HTML(value='')))"
      ]
     },
     "metadata": {},
     "output_type": "display_data"
    },
    {
     "name": "stdout",
     "output_type": "stream",
     "text": [
      "\n",
      "val Loss: 0.4490 Acc: 0.8599\n",
      "\n",
      "Epoch 20/29\n",
      "----------\n"
     ]
    },
    {
     "data": {
      "application/vnd.jupyter.widget-view+json": {
       "model_id": "a290ad54d46749cd9df2ba2d7fc91a21",
       "version_major": 2,
       "version_minor": 0
      },
      "text/plain": [
       "HBox(children=(IntProgress(value=0, max=210), HTML(value='')))"
      ]
     },
     "metadata": {},
     "output_type": "display_data"
    },
    {
     "name": "stdout",
     "output_type": "stream",
     "text": [
      "\n",
      "train Loss: 0.1907 Acc: 0.9366\n"
     ]
    },
    {
     "data": {
      "application/vnd.jupyter.widget-view+json": {
       "model_id": "ea0afda35bc446d0996b5745effe1ef6",
       "version_major": 2,
       "version_minor": 0
      },
      "text/plain": [
       "HBox(children=(IntProgress(value=0, max=35), HTML(value='')))"
      ]
     },
     "metadata": {},
     "output_type": "display_data"
    },
    {
     "name": "stdout",
     "output_type": "stream",
     "text": [
      "\n",
      "val Loss: 0.4476 Acc: 0.8599\n",
      "\n",
      "Epoch 21/29\n",
      "----------\n"
     ]
    },
    {
     "data": {
      "application/vnd.jupyter.widget-view+json": {
       "model_id": "12cdfcb8fb0f45da99e729193cb3397d",
       "version_major": 2,
       "version_minor": 0
      },
      "text/plain": [
       "HBox(children=(IntProgress(value=0, max=210), HTML(value='')))"
      ]
     },
     "metadata": {},
     "output_type": "display_data"
    },
    {
     "name": "stdout",
     "output_type": "stream",
     "text": [
      "\n",
      "train Loss: 0.1819 Acc: 0.9409\n"
     ]
    },
    {
     "data": {
      "application/vnd.jupyter.widget-view+json": {
       "model_id": "d84b3bf21b4e4d499bf9b6433d0720fa",
       "version_major": 2,
       "version_minor": 0
      },
      "text/plain": [
       "HBox(children=(IntProgress(value=0, max=35), HTML(value='')))"
      ]
     },
     "metadata": {},
     "output_type": "display_data"
    },
    {
     "name": "stdout",
     "output_type": "stream",
     "text": [
      "\n",
      "val Loss: 0.5036 Acc: 0.8452\n",
      "\n",
      "Epoch 22/29\n",
      "----------\n"
     ]
    },
    {
     "data": {
      "application/vnd.jupyter.widget-view+json": {
       "model_id": "19c7e4520f5b4523b0a4ebeafcf88ef2",
       "version_major": 2,
       "version_minor": 0
      },
      "text/plain": [
       "HBox(children=(IntProgress(value=0, max=210), HTML(value='')))"
      ]
     },
     "metadata": {},
     "output_type": "display_data"
    },
    {
     "name": "stdout",
     "output_type": "stream",
     "text": [
      "\n",
      "train Loss: 0.1665 Acc: 0.9456\n"
     ]
    },
    {
     "data": {
      "application/vnd.jupyter.widget-view+json": {
       "model_id": "5efc31fcca1e4e8fbf79f7ee991f301d",
       "version_major": 2,
       "version_minor": 0
      },
      "text/plain": [
       "HBox(children=(IntProgress(value=0, max=35), HTML(value='')))"
      ]
     },
     "metadata": {},
     "output_type": "display_data"
    },
    {
     "name": "stdout",
     "output_type": "stream",
     "text": [
      "\n",
      "val Loss: 0.3945 Acc: 0.8874\n",
      "\n",
      "Epoch 23/29\n",
      "----------\n"
     ]
    },
    {
     "data": {
      "application/vnd.jupyter.widget-view+json": {
       "model_id": "903aea1f754845f3975bab98021a8120",
       "version_major": 2,
       "version_minor": 0
      },
      "text/plain": [
       "HBox(children=(IntProgress(value=0, max=210), HTML(value='')))"
      ]
     },
     "metadata": {},
     "output_type": "display_data"
    },
    {
     "name": "stdout",
     "output_type": "stream",
     "text": [
      "\n",
      "train Loss: 0.1636 Acc: 0.9462\n"
     ]
    },
    {
     "data": {
      "application/vnd.jupyter.widget-view+json": {
       "model_id": "e521b72d0c594272b2609d10f5a48b7b",
       "version_major": 2,
       "version_minor": 0
      },
      "text/plain": [
       "HBox(children=(IntProgress(value=0, max=35), HTML(value='')))"
      ]
     },
     "metadata": {},
     "output_type": "display_data"
    },
    {
     "name": "stdout",
     "output_type": "stream",
     "text": [
      "\n",
      "val Loss: 0.4080 Acc: 0.8810\n",
      "\n",
      "Epoch 24/29\n",
      "----------\n"
     ]
    },
    {
     "data": {
      "application/vnd.jupyter.widget-view+json": {
       "model_id": "33a21c4a146a4a3f87b4e2d645549c64",
       "version_major": 2,
       "version_minor": 0
      },
      "text/plain": [
       "HBox(children=(IntProgress(value=0, max=210), HTML(value='')))"
      ]
     },
     "metadata": {},
     "output_type": "display_data"
    },
    {
     "name": "stdout",
     "output_type": "stream",
     "text": [
      "\n",
      "train Loss: 0.1477 Acc: 0.9524\n"
     ]
    },
    {
     "data": {
      "application/vnd.jupyter.widget-view+json": {
       "model_id": "55e2caccad034bc08470ef7161da4136",
       "version_major": 2,
       "version_minor": 0
      },
      "text/plain": [
       "HBox(children=(IntProgress(value=0, max=35), HTML(value='')))"
      ]
     },
     "metadata": {},
     "output_type": "display_data"
    },
    {
     "name": "stdout",
     "output_type": "stream",
     "text": [
      "\n",
      "val Loss: 0.4520 Acc: 0.8718\n",
      "\n",
      "Epoch 25/29\n",
      "----------\n"
     ]
    },
    {
     "data": {
      "application/vnd.jupyter.widget-view+json": {
       "model_id": "09178208b0c34052baa6df747e183caf",
       "version_major": 2,
       "version_minor": 0
      },
      "text/plain": [
       "HBox(children=(IntProgress(value=0, max=210), HTML(value='')))"
      ]
     },
     "metadata": {},
     "output_type": "display_data"
    },
    {
     "name": "stdout",
     "output_type": "stream",
     "text": [
      "\n",
      "train Loss: 0.1609 Acc: 0.9469\n"
     ]
    },
    {
     "data": {
      "application/vnd.jupyter.widget-view+json": {
       "model_id": "333c2c60779d4885b934de65a9ec1567",
       "version_major": 2,
       "version_minor": 0
      },
      "text/plain": [
       "HBox(children=(IntProgress(value=0, max=35), HTML(value='')))"
      ]
     },
     "metadata": {},
     "output_type": "display_data"
    },
    {
     "name": "stdout",
     "output_type": "stream",
     "text": [
      "\n",
      "val Loss: 0.4401 Acc: 0.8663\n",
      "\n",
      "Epoch 26/29\n",
      "----------\n"
     ]
    },
    {
     "data": {
      "application/vnd.jupyter.widget-view+json": {
       "model_id": "a84e716c7265407bb8b7d4f5b174f3a1",
       "version_major": 2,
       "version_minor": 0
      },
      "text/plain": [
       "HBox(children=(IntProgress(value=0, max=210), HTML(value='')))"
      ]
     },
     "metadata": {},
     "output_type": "display_data"
    },
    {
     "name": "stdout",
     "output_type": "stream",
     "text": [
      "\n",
      "train Loss: 0.1536 Acc: 0.9490\n"
     ]
    },
    {
     "data": {
      "application/vnd.jupyter.widget-view+json": {
       "model_id": "b8f488f2a0c6476181eee7cab1708f0b",
       "version_major": 2,
       "version_minor": 0
      },
      "text/plain": [
       "HBox(children=(IntProgress(value=0, max=35), HTML(value='')))"
      ]
     },
     "metadata": {},
     "output_type": "display_data"
    },
    {
     "name": "stdout",
     "output_type": "stream",
     "text": [
      "\n",
      "val Loss: 0.4458 Acc: 0.8727\n",
      "\n",
      "Epoch 27/29\n",
      "----------\n"
     ]
    },
    {
     "data": {
      "application/vnd.jupyter.widget-view+json": {
       "model_id": "07c1f34ed37a4755993c8467bd02cdf9",
       "version_major": 2,
       "version_minor": 0
      },
      "text/plain": [
       "HBox(children=(IntProgress(value=0, max=210), HTML(value='')))"
      ]
     },
     "metadata": {},
     "output_type": "display_data"
    },
    {
     "name": "stdout",
     "output_type": "stream",
     "text": [
      "\n",
      "train Loss: 0.1480 Acc: 0.9529\n"
     ]
    },
    {
     "data": {
      "application/vnd.jupyter.widget-view+json": {
       "model_id": "ea84bbdac58c4861a379cfdc1fbc0e9b",
       "version_major": 2,
       "version_minor": 0
      },
      "text/plain": [
       "HBox(children=(IntProgress(value=0, max=35), HTML(value='')))"
      ]
     },
     "metadata": {},
     "output_type": "display_data"
    },
    {
     "name": "stdout",
     "output_type": "stream",
     "text": [
      "\n",
      "val Loss: 0.4969 Acc: 0.8645\n",
      "\n",
      "Epoch 28/29\n",
      "----------\n"
     ]
    },
    {
     "data": {
      "application/vnd.jupyter.widget-view+json": {
       "model_id": "152778a7417e4f4fb5358a9419be23b8",
       "version_major": 2,
       "version_minor": 0
      },
      "text/plain": [
       "HBox(children=(IntProgress(value=0, max=210), HTML(value='')))"
      ]
     },
     "metadata": {},
     "output_type": "display_data"
    },
    {
     "name": "stdout",
     "output_type": "stream",
     "text": [
      "\n",
      "train Loss: 0.1518 Acc: 0.9492\n"
     ]
    },
    {
     "data": {
      "application/vnd.jupyter.widget-view+json": {
       "model_id": "ed1e3865d43d420ab9f2d6d1c715112a",
       "version_major": 2,
       "version_minor": 0
      },
      "text/plain": [
       "HBox(children=(IntProgress(value=0, max=35), HTML(value='')))"
      ]
     },
     "metadata": {},
     "output_type": "display_data"
    },
    {
     "name": "stdout",
     "output_type": "stream",
     "text": [
      "\n",
      "val Loss: 0.3987 Acc: 0.8864\n",
      "\n",
      "Epoch 29/29\n",
      "----------\n"
     ]
    },
    {
     "data": {
      "application/vnd.jupyter.widget-view+json": {
       "model_id": "bc0c478e80f644cb9048c600b72a37a7",
       "version_major": 2,
       "version_minor": 0
      },
      "text/plain": [
       "HBox(children=(IntProgress(value=0, max=210), HTML(value='')))"
      ]
     },
     "metadata": {},
     "output_type": "display_data"
    },
    {
     "name": "stdout",
     "output_type": "stream",
     "text": [
      "\n",
      "train Loss: 0.1424 Acc: 0.9526\n"
     ]
    },
    {
     "data": {
      "application/vnd.jupyter.widget-view+json": {
       "model_id": "526368cc7730440d90b8c2f47974d6d7",
       "version_major": 2,
       "version_minor": 0
      },
      "text/plain": [
       "HBox(children=(IntProgress(value=0, max=35), HTML(value='')))"
      ]
     },
     "metadata": {},
     "output_type": "display_data"
    },
    {
     "name": "stdout",
     "output_type": "stream",
     "text": [
      "\n",
      "val Loss: 0.4723 Acc: 0.8645\n",
      "\n",
      "Training complete in 169m 28s\n"
     ]
    }
   ],
   "source": [
    "criterion = nn.CrossEntropyLoss().to(device)  \n",
    "optimizer = optim.Adam(model.parameters(), lr = 8.33e-5)\n",
    "# scheduler = torch.optim.lr_scheduler.CyclicLR(optimizer, base_lr=base_lr, max_lr=max_lr, mode = 'triangular2')\n",
    "model, val_loss, val_acc, train_loss, train_acc, lr_rate = train_model(model, criterion, optimizer, dataloader, num_epochs = 30)"
   ]
  },
  {
   "cell_type": "code",
   "execution_count": 32,
   "metadata": {
    "scrolled": true
   },
   "outputs": [
    {
     "name": "stderr",
     "output_type": "stream",
     "text": [
      "C:\\ProgramData\\Anaconda3\\envs\\pythongpu\\lib\\site-packages\\torch\\serialization.py:360: UserWarning: Couldn't retrieve source code for container of type ClassifierNew. It won't be checked for correctness upon loading.\n",
      "  \"type \" + obj.__name__ + \". It won't be checked \"\n",
      "C:\\ProgramData\\Anaconda3\\envs\\pythongpu\\lib\\site-packages\\torch\\serialization.py:360: UserWarning: Couldn't retrieve source code for container of type Flatten. It won't be checked for correctness upon loading.\n",
      "  \"type \" + obj.__name__ + \". It won't be checked \"\n"
     ]
    }
   ],
   "source": [
    "dirr = \"D:\\Github\\SkinCancerCapstone\\models\"\n",
    "torch.save(model, os.path.join(dirr, 'resnet101-adam-2.pth'))"
   ]
  },
  {
   "cell_type": "code",
   "execution_count": 140,
   "metadata": {},
   "outputs": [],
   "source": [
    "# plt.ylabel('Learning rate')\n",
    "# plt.xlabel('Steps')\n",
    "# plt.title('Learning Rate over Steps') \n",
    "# plt.plot(lr_rate, label = 'learning rate')\n",
    "# plt.grid()\n",
    "# plt.savefig('graphs/resnet101-adam/lr.png')\n",
    "# plt.legend()\n",
    "# plt.show()\n",
    "# val_loss"
   ]
  },
  {
   "cell_type": "code",
   "execution_count": 141,
   "metadata": {},
   "outputs": [
    {
     "data": {
      "text/plain": [
       "[]"
      ]
     },
     "execution_count": 141,
     "metadata": {},
     "output_type": "execute_result"
    }
   ],
   "source": [
    "lr_rate"
   ]
  },
  {
   "cell_type": "code",
   "execution_count": 33,
   "metadata": {},
   "outputs": [
    {
     "data": {
      "image/png": "[encoded data removed]",
      "text/plain": [
       "<Figure size 432x288 with 1 Axes>"
      ]
     },
     "metadata": {
      "needs_background": "light"
     },
     "output_type": "display_data"
    }
   ],
   "source": [
    "plt.xlabel('Accuracy')\n",
    "plt.ylabel('Epochs')\n",
    "plt.title('Accuracy over Epochs') \n",
    "plt.plot(val_acc, label = 'training Accuracy')\n",
    "plt.plot(train_acc, label = 'validation accuracy')\n",
    "plt.grid()\n",
    "plt.savefig('graphs/resnet101-adam-2/accuracy.png')\n",
    "plt.legend()\n",
    "plt.show()"
   ]
  },
  {
   "cell_type": "code",
   "execution_count": 34,
   "metadata": {},
   "outputs": [
    {
     "data": {
      "image/png": "[encoded data removed]",
      "text/plain": [
       "<Figure size 432x288 with 1 Axes>"
      ]
     },
     "metadata": {
      "needs_background": "light"
     },
     "output_type": "display_data"
    }
   ],
   "source": [
    "plt.xlabel('Loss')\n",
    "plt.title('Loss over Epochs')\n",
    "plt.plot(val_loss, label = 'train Loss')\n",
    "plt.plot(train_loss, label = 'val Loss')\n",
    "plt.grid()\n",
    "plt.savefig('graphs/resnet101-adam-2/loss.png')\n",
    "plt.legend()\n",
    "plt.show()"
   ]
  },
  {
   "cell_type": "code",
   "execution_count": 45,
   "metadata": {},
   "outputs": [],
   "source": [
    "def plot_confusion_matrix(matrix, labels,\n",
    "                          normalize=False,\n",
    "                          title='Confusion matrix',\n",
    "                          cmap=plt.cm.Blues):\n",
    "    \"\"\"\n",
    "    This function prints and plots the confusion matrix.\n",
    "    Normalization can be applied by setting `normalize=True`.\n",
    "    \"\"\"\n",
    "    if normalize:\n",
    "        matrix = matrix.astype('float') / matrix.sum(axis=1)[:, np.newaxis]\n",
    "        print(\"Normalized confusion matrix\")\n",
    "    else:\n",
    "        print('Confusion matrix, without normalization')\n",
    "\n",
    "    #print(matrix)\n",
    "\n",
    "    plt.imshow(matrix, interpolation='nearest', cmap=cmap)\n",
    "#     plt.title(title)\n",
    "    plt.colorbar()\n",
    "    tick_marks = np.arange(len(labels))\n",
    "    plt.xticks(tick_marks, labels) #, rotation=45)\n",
    "    plt.yticks(tick_marks, labels)\n",
    "\n",
    "    fmt = '.2f' if normalize else 'd'\n",
    "    thresh = matrix.max() / 2.\n",
    "    for i, j in itertools.product(range(matrix.shape[0]), range(matrix.shape[1])):\n",
    "        plt.text(j, i, format(matrix[i, j], fmt),\n",
    "                 horizontalalignment=\"center\",\n",
    "                 color=\"white\" if matrix[i, j] > thresh else \"black\")\n",
    "\n",
    "    plt.ylabel('True label')\n",
    "    plt.xlabel('Predicted label')\n",
    "    plt.savefig('graphs/resnet101-adam/conf_mat-tta.png')\n",
    "    plt.show()\n",
    "    "
   ]
  },
  {
   "cell_type": "code",
   "execution_count": 43,
   "metadata": {},
   "outputs": [
    {
     "data": {
      "application/vnd.jupyter.widget-view+json": {
       "model_id": "bac24c9500b3480699c5172ac826c704",
       "version_major": 2,
       "version_minor": 0
      },
      "text/plain": [
       "HBox(children=(IntProgress(value=0, max=70), HTML(value='')))"
      ]
     },
     "metadata": {},
     "output_type": "display_data"
    },
    {
     "name": "stdout",
     "output_type": "stream",
     "text": [
      "\n"
     ]
    }
   ],
   "source": [
    "model = torch.load(\"D:/Github/SkinCancerCapstone/models/resnet101-adam.pth\")\n",
    "model.eval()\n",
    "y_label = []\n",
    "y_predict = []\n",
    "with torch.no_grad():\n",
    "    for images, labels in tqdm(dataloader['test']):\n",
    "        N = images.size(0)\n",
    "        images = Variable(images).to(device)\n",
    "        outputs = model(images)\n",
    "        prediction = outputs.max(1, keepdim=True)[1]\n",
    "        y_label.extend(labels.cpu().numpy())\n",
    "        y_predict.extend(np.squeeze(prediction.cpu().numpy().T))\n",
    "\n",
    "conf_matrix = confusion_matrix(y_true=y_label, y_pred=y_predict)\n",
    "plot_labels = ['akiec', 'bcc', 'bkl', 'df', 'nv', 'mel','vasc']"
   ]
  },
  {
   "cell_type": "code",
   "execution_count": 46,
   "metadata": {},
   "outputs": [
    {
     "name": "stdout",
     "output_type": "stream",
     "text": [
      "Normalized confusion matrix\n"
     ]
    },
    {
     "data": {
      "image/png": "[encoded data removed]",
      "text/plain": [
       "<Figure size 432x288 with 2 Axes>"
      ]
     },
     "metadata": {
      "needs_background": "light"
     },
     "output_type": "display_data"
    },
    {
     "name": "stdout",
     "output_type": "stream",
     "text": [
      "0.6435196540290001\n"
     ]
    }
   ],
   "source": [
    "plot_confusion_matrix(conf_matrix, labels=plot_labels, normalize=True)\n",
    "print(balanced_accuracy_score(y_label, y_predict))\n"
   ]
  },
  {
   "cell_type": "code",
   "execution_count": 47,
   "metadata": {
    "scrolled": true
   },
   "outputs": [
    {
     "name": "stdout",
     "output_type": "stream",
     "text": [
      "              precision    recall  f1-score   support\n",
      "\n",
      "       akiec       0.38      0.49      0.43        61\n",
      "         bcc       0.51      0.63      0.56        70\n",
      "         bkl       0.69      0.68      0.69       177\n",
      "          df       0.33      0.60      0.43        15\n",
      "          nv       0.97      0.92      0.95      1776\n",
      "        vasc       0.37      0.57      0.44        92\n",
      "         mel       0.64      0.62      0.63        26\n",
      "\n",
      "    accuracy                           0.86      2217\n",
      "   macro avg       0.56      0.64      0.59      2217\n",
      "weighted avg       0.88      0.86      0.87      2217\n",
      "\n"
     ]
    }
   ],
   "source": [
    "# Generate a classification report\n",
    "report = classification_report(y_label, y_predict, target_names=plot_labels)\n",
    "print(report)"
   ]
  },
  {
   "cell_type": "markdown",
   "metadata": {},
   "source": [
    "## Predict Function"
   ]
  },
  {
   "cell_type": "code",
   "execution_count": 75,
   "metadata": {},
   "outputs": [],
   "source": [
    "from PIL import Image\n",
    "\n",
    "def predict(path, modelpath = \"D:/Github/SkinCancerCapstone/models/resnet101-classifier.pth\"):\n",
    "    model = torch.load(modelpath)\n",
    "    model.eval()\n",
    "    \n",
    "    img = Image.open(path)\n",
    "    img = test_transform(img).float()\n",
    "    img = Variable(img, requires_grad=False)\n",
    "    img = img.unsqueeze(0).cuda()\n",
    "    output = model(img)\n",
    "    print(output)\n",
    "    m = nn.Softmax(dim = 1)\n",
    "    op = m(output).tolist()\n",
    "    print(op)\n",
    "    prediction = output.max(1, keepdim=True)[1].tolist()\n",
    "    prediction = prediction[0][0]\n",
    "    print(prediction, op[0][prediction])"
   ]
  },
  {
   "cell_type": "code",
   "execution_count": 80,
   "metadata": {},
   "outputs": [
    {
     "name": "stdout",
     "output_type": "stream",
     "text": [
      "tensor([[-0.8541, -7.2931,  2.5407, -6.8576,  5.4922,  6.1139, -0.3118]],\n",
      "       device='cuda:0', grad_fn=<AddmmBackward>)\n",
      "[[0.0006006199982948601, 9.597472399036633e-07, 0.01790272630751133, 1.4835470665275352e-06, 0.3425754904747009, 0.6378856301307678, 0.00103298993781209]]\n",
      "5 0.6378856301307678\n"
     ]
    }
   ],
   "source": [
    "predict(\"D:/Github/SkinCancerCapstone/report/img/melanoma.jpg\")"
   ]
  },
  {
   "cell_type": "code",
   "execution_count": null,
   "metadata": {},
   "outputs": [],
   "source": []
  }
 ],
 "metadata": {
  "kernelspec": {
   "display_name": "Python 3",
   "language": "python",
   "name": "python3"
  },
  "language_info": {
   "codemirror_mode": {
    "name": "ipython",
    "version": 3
   },
   "file_extension": ".py",
   "mimetype": "text/x-python",
   "name": "python",
   "nbconvert_exporter": "python",
   "pygments_lexer": "ipython3",
   "version": "3.7.4"
  },
  "latex_envs": {
   "LaTeX_envs_menu_present": true,
   "autoclose": false,
   "autocomplete": true,
   "bibliofile": "biblio.bib",
   "cite_by": "apalike",
   "current_citInitial": 1,
   "eqLabelWithNumbers": true,
   "eqNumInitial": 1,
   "hotkeys": {
    "equation": "Ctrl-E",
    "itemize": "Ctrl-I"
   },
   "labels_anchors": false,
   "latex_user_defs": false,
   "report_style_numbering": false,
   "user_envs_cfg": false
  },
  "varInspector": {
   "cols": {
    "lenName": 16,
    "lenType": 16,
    "lenVar": 40
   },
   "kernels_config": {
    "python": {
     "delete_cmd_postfix": "",
     "delete_cmd_prefix": "del ",
     "library": "var_list.py",
     "varRefreshCmd": "print(var_dic_list())"
    },
    "r": {
     "delete_cmd_postfix": ") ",
     "delete_cmd_prefix": "rm(",
     "library": "var_list.r",
     "varRefreshCmd": "cat(var_dic_list()) "
    }
   },
   "types_to_exclude": [
    "module",
    "function",
    "builtin_function_or_method",
    "instance",
    "_Feature"
   ],
   "window_display": false
  }
 },
 "nbformat": 4,
 "nbformat_minor": 2
}